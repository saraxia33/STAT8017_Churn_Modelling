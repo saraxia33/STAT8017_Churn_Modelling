{
 "cells": [
  {
   "cell_type": "markdown",
   "metadata": {},
   "source": [
    "## STAT8017 Assignment 2 suggested sol 2019 sem1"
   ]
  },
  {
   "cell_type": "markdown",
   "metadata": {},
   "source": [
    "packages to be used in the suggested solution "
   ]
  },
  {
   "cell_type": "code",
   "execution_count": 1,
   "metadata": {},
   "outputs": [],
   "source": [
    "%matplotlib inline\n",
    "\n",
    "import numpy as np\n",
    "import pandas as pd\n",
    "import matplotlib as mpl\n",
    "import matplotlib.pyplot as plt"
   ]
  },
  {
   "cell_type": "code",
   "execution_count": 2,
   "metadata": {},
   "outputs": [],
   "source": [
    "from sklearn.metrics import roc_curve, auc\n",
    "from sklearn.preprocessing import MinMaxScaler\n",
    "from sklearn.model_selection import train_test_split\n",
    "\n",
    "from sklearn.svm import SVC\n",
    "from sklearn.cluster import DBSCAN\n",
    "from sklearn.tree import DecisionTreeClassifier\n",
    "from sklearn.cluster import AgglomerativeClustering\n",
    "from sklearn.ensemble import RandomForestClassifier, GradientBoostingRegressor\n",
    "from sklearn.metrics import confusion_matrix, mean_squared_error, accuracy_score\n",
    "from sklearn.metrics import silhouette_score, calinski_harabaz_score\n",
    "\n",
    "import scipy.cluster.hierarchy as sch"
   ]
  },
  {
   "cell_type": "markdown",
   "metadata": {},
   "source": [
    "Q1"
   ]
  },
  {
   "cell_type": "markdown",
   "metadata": {},
   "source": [
    "1a) print out the first few lines of data."
   ]
  },
  {
   "cell_type": "code",
   "execution_count": 4,
   "metadata": {},
   "outputs": [
    {
     "name": "stderr",
     "output_type": "stream",
     "text": [
      "C:\\Users\\michi\\Anaconda3\\envs\\tfenv\\lib\\site-packages\\ipykernel_launcher.py:5: SettingWithCopyWarning: \n",
      "A value is trying to be set on a copy of a slice from a DataFrame\n",
      "\n",
      "See the caveats in the documentation: http://pandas.pydata.org/pandas-docs/stable/indexing.html#indexing-view-versus-copy\n",
      "  \"\"\"\n",
      "C:\\Users\\michi\\Anaconda3\\envs\\tfenv\\lib\\site-packages\\ipykernel_launcher.py:6: SettingWithCopyWarning: \n",
      "A value is trying to be set on a copy of a slice from a DataFrame\n",
      "\n",
      "See the caveats in the documentation: http://pandas.pydata.org/pandas-docs/stable/indexing.html#indexing-view-versus-copy\n",
      "  \n"
     ]
    },
    {
     "data": {
      "text/html": [
       "<div>\n",
       "<style scoped>\n",
       "    .dataframe tbody tr th:only-of-type {\n",
       "        vertical-align: middle;\n",
       "    }\n",
       "\n",
       "    .dataframe tbody tr th {\n",
       "        vertical-align: top;\n",
       "    }\n",
       "\n",
       "    .dataframe thead th {\n",
       "        text-align: right;\n",
       "    }\n",
       "</style>\n",
       "<table border=\"1\" class=\"dataframe\">\n",
       "  <thead>\n",
       "    <tr style=\"text-align: right;\">\n",
       "      <th></th>\n",
       "      <th>CreditScore</th>\n",
       "      <th>Geography</th>\n",
       "      <th>Gender</th>\n",
       "      <th>Age</th>\n",
       "      <th>Tenure</th>\n",
       "      <th>Balance</th>\n",
       "      <th>NumOfProducts</th>\n",
       "      <th>HasCrCard</th>\n",
       "      <th>IsActiveMember</th>\n",
       "      <th>EstimatedSalary</th>\n",
       "      <th>Exited</th>\n",
       "    </tr>\n",
       "    <tr>\n",
       "      <th>CustomerId</th>\n",
       "      <th></th>\n",
       "      <th></th>\n",
       "      <th></th>\n",
       "      <th></th>\n",
       "      <th></th>\n",
       "      <th></th>\n",
       "      <th></th>\n",
       "      <th></th>\n",
       "      <th></th>\n",
       "      <th></th>\n",
       "      <th></th>\n",
       "    </tr>\n",
       "  </thead>\n",
       "  <tbody>\n",
       "    <tr>\n",
       "      <th>15673578</th>\n",
       "      <td>611</td>\n",
       "      <td>Germany</td>\n",
       "      <td>0</td>\n",
       "      <td>40</td>\n",
       "      <td>7</td>\n",
       "      <td>128486.91</td>\n",
       "      <td>2</td>\n",
       "      <td>1</td>\n",
       "      <td>0</td>\n",
       "      <td>10109.47</td>\n",
       "      <td>0</td>\n",
       "    </tr>\n",
       "    <tr>\n",
       "      <th>15671800</th>\n",
       "      <td>688</td>\n",
       "      <td>France</td>\n",
       "      <td>1</td>\n",
       "      <td>20</td>\n",
       "      <td>8</td>\n",
       "      <td>137624.40</td>\n",
       "      <td>2</td>\n",
       "      <td>1</td>\n",
       "      <td>1</td>\n",
       "      <td>197582.79</td>\n",
       "      <td>0</td>\n",
       "    </tr>\n",
       "    <tr>\n",
       "      <th>15612444</th>\n",
       "      <td>549</td>\n",
       "      <td>France</td>\n",
       "      <td>1</td>\n",
       "      <td>29</td>\n",
       "      <td>3</td>\n",
       "      <td>0.00</td>\n",
       "      <td>2</td>\n",
       "      <td>1</td>\n",
       "      <td>0</td>\n",
       "      <td>146090.38</td>\n",
       "      <td>0</td>\n",
       "    </tr>\n",
       "    <tr>\n",
       "      <th>15620443</th>\n",
       "      <td>711</td>\n",
       "      <td>France</td>\n",
       "      <td>0</td>\n",
       "      <td>81</td>\n",
       "      <td>6</td>\n",
       "      <td>0.00</td>\n",
       "      <td>2</td>\n",
       "      <td>1</td>\n",
       "      <td>1</td>\n",
       "      <td>72276.24</td>\n",
       "      <td>0</td>\n",
       "    </tr>\n",
       "    <tr>\n",
       "      <th>15677955</th>\n",
       "      <td>757</td>\n",
       "      <td>Germany</td>\n",
       "      <td>1</td>\n",
       "      <td>33</td>\n",
       "      <td>1</td>\n",
       "      <td>122088.67</td>\n",
       "      <td>1</td>\n",
       "      <td>1</td>\n",
       "      <td>0</td>\n",
       "      <td>42581.09</td>\n",
       "      <td>0</td>\n",
       "    </tr>\n",
       "    <tr>\n",
       "      <th>15680224</th>\n",
       "      <td>687</td>\n",
       "      <td>France</td>\n",
       "      <td>0</td>\n",
       "      <td>26</td>\n",
       "      <td>6</td>\n",
       "      <td>0.00</td>\n",
       "      <td>2</td>\n",
       "      <td>1</td>\n",
       "      <td>1</td>\n",
       "      <td>32909.13</td>\n",
       "      <td>0</td>\n",
       "    </tr>\n",
       "    <tr>\n",
       "      <th>15727384</th>\n",
       "      <td>705</td>\n",
       "      <td>Germany</td>\n",
       "      <td>0</td>\n",
       "      <td>43</td>\n",
       "      <td>10</td>\n",
       "      <td>146547.78</td>\n",
       "      <td>1</td>\n",
       "      <td>0</td>\n",
       "      <td>1</td>\n",
       "      <td>10072.55</td>\n",
       "      <td>1</td>\n",
       "    </tr>\n",
       "    <tr>\n",
       "      <th>15636478</th>\n",
       "      <td>621</td>\n",
       "      <td>France</td>\n",
       "      <td>1</td>\n",
       "      <td>31</td>\n",
       "      <td>7</td>\n",
       "      <td>136658.61</td>\n",
       "      <td>1</td>\n",
       "      <td>1</td>\n",
       "      <td>1</td>\n",
       "      <td>148689.13</td>\n",
       "      <td>0</td>\n",
       "    </tr>\n",
       "    <tr>\n",
       "      <th>15677785</th>\n",
       "      <td>656</td>\n",
       "      <td>Spain</td>\n",
       "      <td>1</td>\n",
       "      <td>32</td>\n",
       "      <td>5</td>\n",
       "      <td>136963.12</td>\n",
       "      <td>1</td>\n",
       "      <td>1</td>\n",
       "      <td>0</td>\n",
       "      <td>133814.28</td>\n",
       "      <td>0</td>\n",
       "    </tr>\n",
       "    <tr>\n",
       "      <th>15601387</th>\n",
       "      <td>721</td>\n",
       "      <td>France</td>\n",
       "      <td>1</td>\n",
       "      <td>35</td>\n",
       "      <td>10</td>\n",
       "      <td>0.00</td>\n",
       "      <td>2</td>\n",
       "      <td>1</td>\n",
       "      <td>0</td>\n",
       "      <td>71594.26</td>\n",
       "      <td>0</td>\n",
       "    </tr>\n",
       "  </tbody>\n",
       "</table>\n",
       "</div>"
      ],
      "text/plain": [
       "            CreditScore Geography Gender  Age  Tenure    Balance  \\\n",
       "CustomerId                                                         \n",
       "15673578            611   Germany      0   40       7  128486.91   \n",
       "15671800            688    France      1   20       8  137624.40   \n",
       "15612444            549    France      1   29       3       0.00   \n",
       "15620443            711    France      0   81       6       0.00   \n",
       "15677955            757   Germany      1   33       1  122088.67   \n",
       "15680224            687    France      0   26       6       0.00   \n",
       "15727384            705   Germany      0   43      10  146547.78   \n",
       "15636478            621    France      1   31       7  136658.61   \n",
       "15677785            656     Spain      1   32       5  136963.12   \n",
       "15601387            721    France      1   35      10       0.00   \n",
       "\n",
       "            NumOfProducts  HasCrCard  IsActiveMember  EstimatedSalary  Exited  \n",
       "CustomerId                                                                     \n",
       "15673578                2          1               0         10109.47       0  \n",
       "15671800                2          1               1        197582.79       0  \n",
       "15612444                2          1               0        146090.38       0  \n",
       "15620443                2          1               1         72276.24       0  \n",
       "15677955                1          1               0         42581.09       0  \n",
       "15680224                2          1               1         32909.13       0  \n",
       "15727384                1          0               1         10072.55       1  \n",
       "15636478                1          1               1        148689.13       0  \n",
       "15677785                1          1               0        133814.28       0  \n",
       "15601387                2          1               0         71594.26       0  "
      ]
     },
     "execution_count": 4,
     "metadata": {},
     "output_type": "execute_result"
    }
   ],
   "source": [
    "mydata = pd.read_csv(\"Churn_Modelling.csv\", index_col=[1])\n",
    "del mydata['RowNumber']\n",
    "del mydata['Surname']\n",
    "\n",
    "mydata.Gender[mydata.Gender == 'Male'] = 1\n",
    "mydata.Gender[mydata.Gender == 'Female'] = 0\n",
    "mydata.sample(10)"
   ]
  },
  {
   "cell_type": "code",
   "execution_count": 6,
   "metadata": {},
   "outputs": [
    {
     "name": "stdout",
     "output_type": "stream",
     "text": [
      "<class 'pandas.core.frame.DataFrame'>\n",
      "Int64Index: 10000 entries, 15634602 to 15628319\n",
      "Data columns (total 11 columns):\n",
      "CreditScore        10000 non-null int64\n",
      "Geography          10000 non-null object\n",
      "Gender             10000 non-null object\n",
      "Age                10000 non-null int64\n",
      "Tenure             10000 non-null int64\n",
      "Balance            10000 non-null float64\n",
      "NumOfProducts      10000 non-null int64\n",
      "HasCrCard          10000 non-null int64\n",
      "IsActiveMember     10000 non-null int64\n",
      "EstimatedSalary    10000 non-null float64\n",
      "Exited             10000 non-null int64\n",
      "dtypes: float64(2), int64(7), object(2)\n",
      "memory usage: 937.5+ KB\n"
     ]
    }
   ],
   "source": [
    "mydata.info()"
   ]
  },
  {
   "cell_type": "code",
   "execution_count": 12,
   "metadata": {},
   "outputs": [
    {
     "data": {
      "text/html": [
       "<div>\n",
       "<style scoped>\n",
       "    .dataframe tbody tr th:only-of-type {\n",
       "        vertical-align: middle;\n",
       "    }\n",
       "\n",
       "    .dataframe tbody tr th {\n",
       "        vertical-align: top;\n",
       "    }\n",
       "\n",
       "    .dataframe thead th {\n",
       "        text-align: right;\n",
       "    }\n",
       "</style>\n",
       "<table border=\"1\" class=\"dataframe\">\n",
       "  <thead>\n",
       "    <tr style=\"text-align: right;\">\n",
       "      <th></th>\n",
       "      <th>CreditScore</th>\n",
       "      <th>Gender</th>\n",
       "      <th>Age</th>\n",
       "      <th>Tenure</th>\n",
       "      <th>Balance</th>\n",
       "      <th>NumOfProducts</th>\n",
       "      <th>HasCrCard</th>\n",
       "      <th>IsActiveMember</th>\n",
       "      <th>EstimatedSalary</th>\n",
       "      <th>Exited</th>\n",
       "    </tr>\n",
       "    <tr>\n",
       "      <th>CustomerId</th>\n",
       "      <th></th>\n",
       "      <th></th>\n",
       "      <th></th>\n",
       "      <th></th>\n",
       "      <th></th>\n",
       "      <th></th>\n",
       "      <th></th>\n",
       "      <th></th>\n",
       "      <th></th>\n",
       "      <th></th>\n",
       "    </tr>\n",
       "  </thead>\n",
       "  <tbody>\n",
       "    <tr>\n",
       "      <th>15634602</th>\n",
       "      <td>619</td>\n",
       "      <td>0</td>\n",
       "      <td>42</td>\n",
       "      <td>2</td>\n",
       "      <td>0.00</td>\n",
       "      <td>1</td>\n",
       "      <td>1</td>\n",
       "      <td>1</td>\n",
       "      <td>101348.88</td>\n",
       "      <td>1</td>\n",
       "    </tr>\n",
       "    <tr>\n",
       "      <th>15647311</th>\n",
       "      <td>608</td>\n",
       "      <td>0</td>\n",
       "      <td>41</td>\n",
       "      <td>1</td>\n",
       "      <td>83807.86</td>\n",
       "      <td>1</td>\n",
       "      <td>0</td>\n",
       "      <td>1</td>\n",
       "      <td>112542.58</td>\n",
       "      <td>0</td>\n",
       "    </tr>\n",
       "    <tr>\n",
       "      <th>15619304</th>\n",
       "      <td>502</td>\n",
       "      <td>0</td>\n",
       "      <td>42</td>\n",
       "      <td>8</td>\n",
       "      <td>159660.80</td>\n",
       "      <td>3</td>\n",
       "      <td>1</td>\n",
       "      <td>0</td>\n",
       "      <td>113931.57</td>\n",
       "      <td>1</td>\n",
       "    </tr>\n",
       "    <tr>\n",
       "      <th>15701354</th>\n",
       "      <td>699</td>\n",
       "      <td>0</td>\n",
       "      <td>39</td>\n",
       "      <td>1</td>\n",
       "      <td>0.00</td>\n",
       "      <td>2</td>\n",
       "      <td>0</td>\n",
       "      <td>0</td>\n",
       "      <td>93826.63</td>\n",
       "      <td>0</td>\n",
       "    </tr>\n",
       "    <tr>\n",
       "      <th>15737888</th>\n",
       "      <td>850</td>\n",
       "      <td>0</td>\n",
       "      <td>43</td>\n",
       "      <td>2</td>\n",
       "      <td>125510.82</td>\n",
       "      <td>1</td>\n",
       "      <td>1</td>\n",
       "      <td>1</td>\n",
       "      <td>79084.10</td>\n",
       "      <td>0</td>\n",
       "    </tr>\n",
       "  </tbody>\n",
       "</table>\n",
       "</div>"
      ],
      "text/plain": [
       "            CreditScore Gender  Age  Tenure    Balance  NumOfProducts  \\\n",
       "CustomerId                                                              \n",
       "15634602            619      0   42       2       0.00              1   \n",
       "15647311            608      0   41       1   83807.86              1   \n",
       "15619304            502      0   42       8  159660.80              3   \n",
       "15701354            699      0   39       1       0.00              2   \n",
       "15737888            850      0   43       2  125510.82              1   \n",
       "\n",
       "            HasCrCard  IsActiveMember  EstimatedSalary  Exited  \n",
       "CustomerId                                                      \n",
       "15634602            1               1        101348.88       1  \n",
       "15647311            0               1        112542.58       0  \n",
       "15619304            1               0        113931.57       1  \n",
       "15701354            0               0         93826.63       0  \n",
       "15737888            1               1         79084.10       0  "
      ]
     },
     "execution_count": 12,
     "metadata": {},
     "output_type": "execute_result"
    }
   ],
   "source": [
    "expl = ['CreditScore', 'Gender', 'Age', 'Tenure', 'Balance', 'NumOfProducts', 'HasCrCard', 'IsActiveMember', 'EstimatedSalary']\n",
    "X = mydata[expl]\n",
    "y = mydata[['Exited']]\n",
    "\n",
    "mydata_df = pd.concat([X, y], 1)\n",
    "mydata_df.head()"
   ]
  },
  {
   "cell_type": "code",
   "execution_count": 13,
   "metadata": {},
   "outputs": [
    {
     "name": "stdout",
     "output_type": "stream",
     "text": [
      "<class 'pandas.core.frame.DataFrame'>\n",
      "Int64Index: 10000 entries, 15634602 to 15628319\n",
      "Data columns (total 10 columns):\n",
      "CreditScore        10000 non-null int64\n",
      "Gender             10000 non-null object\n",
      "Age                10000 non-null int64\n",
      "Tenure             10000 non-null int64\n",
      "Balance            10000 non-null float64\n",
      "NumOfProducts      10000 non-null int64\n",
      "HasCrCard          10000 non-null int64\n",
      "IsActiveMember     10000 non-null int64\n",
      "EstimatedSalary    10000 non-null float64\n",
      "Exited             10000 non-null int64\n",
      "dtypes: float64(2), int64(7), object(1)\n",
      "memory usage: 859.4+ KB\n"
     ]
    }
   ],
   "source": [
    "mydata_df.info()"
   ]
  },
  {
   "cell_type": "markdown",
   "metadata": {},
   "source": [
    "1b) Standardise (by MinMaxScaler) and split the data into training set and testing set (using test_size=0.2)."
   ]
  },
  {
   "cell_type": "code",
   "execution_count": 19,
   "metadata": {},
   "outputs": [],
   "source": [
    "scaler_x = MinMaxScaler((-1, 1))\n",
    "scaler_y = MinMaxScaler((-1, 1))\n",
    "sX = scaler_x.fit_transform(X)\n",
    "X_train, X_test, y_train, y_test = train_test_split(sX, y, test_size=0.2)"
   ]
  },
  {
   "cell_type": "markdown",
   "metadata": {},
   "source": [
    "1c) Fit a classification decision tree to the training data with a max_depth=5. What is the training accuracy?"
   ]
  },
  {
   "cell_type": "code",
   "execution_count": 20,
   "metadata": {},
   "outputs": [
    {
     "data": {
      "text/plain": [
       "0.998375"
      ]
     },
     "execution_count": 20,
     "metadata": {},
     "output_type": "execute_result"
    }
   ],
   "source": [
    "clf = DecisionTreeClassifier(max_depth=20)\n",
    "clf.fit(X_train, y_train)\n",
    "clf.score(X_train, y_train)"
   ]
  },
  {
   "cell_type": "markdown",
   "metadata": {},
   "source": [
    "1d) What is the corresponding testing accuracy? Draw the confusion matrix for this decision tree."
   ]
  },
  {
   "cell_type": "code",
   "execution_count": 21,
   "metadata": {},
   "outputs": [
    {
     "name": "stdout",
     "output_type": "stream",
     "text": [
      "accuracy: 0.79\n",
      "      down   up\n",
      "down  1373  210\n",
      "up     210  207\n"
     ]
    }
   ],
   "source": [
    "pred = clf.predict(X_test)\n",
    "cm = pd.DataFrame(confusion_matrix(y_test, pred).T, index=['down', 'up'], columns=['down', 'up'])\n",
    "print(\"accuracy:\",accuracy_score(pred, y_test))\n",
    "print(cm)"
   ]
  },
  {
   "cell_type": "markdown",
   "metadata": {},
   "source": [
    "1e) Using “from sklearn.metrics import roc_curve, auc”, draw the ROC curve for this decision tree using various thresholds assigned by the program. What is the corresponding AUC?"
   ]
  },
  {
   "cell_type": "code",
   "execution_count": 22,
   "metadata": {},
   "outputs": [
    {
     "name": "stdout",
     "output_type": "stream",
     "text": [
      "false positive fraction: [0.         0.1320278  0.13265951 0.13392293 0.13455464 0.13644978\n",
      " 0.13708149 0.13960834 0.14403032 0.14845231 1.        ]\n",
      "true positive fraction: [0.         0.49640288 0.49640288 0.49640288 0.49640288 0.49640288\n",
      " 0.49880096 0.49880096 0.50119904 0.50119904 1.        ]\n",
      "thresholds: [2.         1.         0.75       0.33333333 0.25       0.16666667\n",
      " 0.14285714 0.07692308 0.04347826 0.04166667 0.        ]\n"
     ]
    }
   ],
   "source": [
    "score = clf.predict_proba(X_test)\n",
    "fpr, tpr, thresholds = roc_curve(y_test, score[:, 1])\n",
    "print ('false positive fraction:', fpr)\n",
    "print ('true positive fraction:', tpr)\n",
    "print ('thresholds:', thresholds)"
   ]
  },
  {
   "cell_type": "code",
   "execution_count": 23,
   "metadata": {},
   "outputs": [
    {
     "data": {
      "image/png": "[encoded data removed]",
      "text/plain": [
       "<Figure size 432x288 with 1 Axes>"
      ]
     },
     "metadata": {
      "needs_background": "light"
     },
     "output_type": "display_data"
    }
   ],
   "source": [
    "roc_auc = auc(fpr, tpr)\n",
    "plt.figure(figsize=(6, 4))\n",
    "plt.plot(fpr, tpr)\n",
    "plt.plot([0, 1], [0, 1], 'k--')\n",
    "plt.xlim([0.0, 1.0])\n",
    "plt.ylim([0.0, 1.05])\n",
    "plt.xlabel('False Positive Rate')\n",
    "plt.ylabel('True Positive Rate')\n",
    "plt.title('ROC curve (area = %0.2f)' % roc_auc)\n",
    "plt.show()"
   ]
  },
  {
   "cell_type": "markdown",
   "metadata": {},
   "source": [
    "1f) Using “RandomForestClassifier(n_estimators=100, max_depth=5,random_state=0)”, what is the training accuracy for this random forest?"
   ]
  },
  {
   "cell_type": "code",
   "execution_count": 24,
   "metadata": {},
   "outputs": [
    {
     "name": "stderr",
     "output_type": "stream",
     "text": [
      "C:\\Users\\michi\\Anaconda3\\envs\\tfenv\\lib\\site-packages\\ipykernel_launcher.py:2: DataConversionWarning: A column-vector y was passed when a 1d array was expected. Please change the shape of y to (n_samples,), for example using ravel().\n",
      "  \n"
     ]
    },
    {
     "data": {
      "text/plain": [
       "0.85925"
      ]
     },
     "execution_count": 24,
     "metadata": {},
     "output_type": "execute_result"
    }
   ],
   "source": [
    "clf_rf = RandomForestClassifier(n_estimators=100, max_depth=5, random_state=0)\n",
    "clf_rf.fit(X_train, y_train)\n",
    "clf_rf.score(X_train, y_train)"
   ]
  },
  {
   "cell_type": "markdown",
   "metadata": {},
   "source": [
    "1g) What is the corresponding testing accuracy? Draw the confusion matrix for this random forest."
   ]
  },
  {
   "cell_type": "code",
   "execution_count": 25,
   "metadata": {},
   "outputs": [
    {
     "name": "stdout",
     "output_type": "stream",
     "text": [
      "predicted label: [0, 0, 0, 0, 1, 0, 0, 0, 0, 0, 0, 0, 0, 1, 0, 0, 0, 1, 0, 0, 0, 0, 0, 0, 0, 0, 0, 0, 0, 0, 0, 1, 0, 0, 1, 0, 0, 0, 0, 0, 0, 0, 0, 0, 0, 0, 0, 0, 1, 0, 0, 0, 0, 0, 1, 0, 0, 0, 0, 0, 0, 0, 0, 0, 0, 0, 0, 0, 0, 0, 0, 0, 0, 0, 0, 0, 0, 0, 0, 1, 0, 0, 1, 0, 0, 0, 0, 0, 0, 0, 0, 0, 0, 0, 0, 0, 0, 0, 0, 0, 0, 0, 1, 0, 0, 0, 0, 0, 0, 1, 0, 0, 0, 0, 0, 0, 1, 0, 0, 1, 0, 0, 0, 0, 1, 0, 0, 0, 0, 0, 0, 0, 0, 0, 0, 0, 0, 0, 0, 1, 0, 0, 0, 1, 0, 0, 0, 0, 0, 0, 0, 0, 0, 0, 0, 0, 0, 0, 0, 0, 0, 0, 0, 1, 0, 0, 0, 0, 0, 1, 1, 0, 0, 0, 0, 0, 0, 0, 0, 1, 0, 0, 0, 0, 0, 0, 0, 0, 0, 0, 0, 0, 0, 0, 0, 0, 0, 0, 0, 0, 0, 0, 0, 0, 0, 0, 0, 0, 1, 1, 0, 1, 0, 0, 0, 0, 1, 0, 0, 0, 0, 0, 0, 0, 0, 0, 0, 0, 0, 0, 0, 0, 0, 0, 0, 0, 0, 0, 0, 0, 0, 0, 0, 0, 0, 0, 0, 0, 0, 0, 0, 0, 0, 0, 0, 0, 0, 0, 0, 0, 0, 0, 0, 0, 0, 0, 0, 1, 0, 0, 0, 0, 0, 0, 0, 0, 0, 0, 0, 0, 0, 0, 0, 0, 0, 0, 0, 0, 0, 0, 1, 0, 0, 0, 1, 0, 0, 1, 0, 0, 0, 0, 0, 0, 0, 0, 0, 0, 0, 0, 0, 0, 0, 1, 0, 0, 0, 1, 0, 1, 0, 0, 0, 1, 0, 1, 0, 0, 0, 0, 0, 0, 1, 0, 0, 0, 1, 0, 0, 0, 1, 0, 0, 0, 0, 0, 0, 0, 0, 0, 0, 0, 0, 0, 0, 0, 0, 0, 0, 0, 0, 1, 1, 0, 0, 0, 0, 0, 0, 0, 0, 0, 0, 0, 0, 0, 0, 0, 0, 0, 0, 0, 0, 0, 0, 0, 0, 0, 0, 0, 0, 0, 0, 0, 0, 0, 0, 0, 0, 0, 0, 1, 0, 0, 1, 0, 1, 0, 0, 0, 1, 0, 0, 0, 0, 0, 0, 0, 0, 0, 0, 0, 0, 0, 0, 0, 0, 0, 0, 0, 0, 0, 0, 0, 0, 0, 0, 1, 0, 0, 1, 1, 0, 0, 0, 1, 0, 0, 0, 0, 0, 0, 1, 0, 0, 0, 0, 0, 0, 0, 0, 0, 0, 0, 0, 0, 0, 1, 0, 1, 0, 0, 0, 0, 0, 0, 0, 0, 0, 0, 0, 1, 0, 0, 0, 0, 0, 0, 0, 0, 0, 0, 0, 0, 0, 1, 0, 0, 0, 0, 0, 0, 0, 0, 0, 1, 1, 0, 0, 0, 1, 0, 0, 0, 0, 0, 0, 0, 0, 0, 0, 0, 0, 0, 0, 0, 0, 1, 1, 0, 1, 0, 0, 0, 0, 0, 0, 0, 0, 0, 0, 0, 0, 0, 0, 1, 0, 0, 0, 0, 0, 0, 0, 0, 0, 0, 0, 0, 0, 0, 0, 0, 0, 0, 0, 0, 0, 0, 0, 0, 0, 1, 0, 0, 0, 0, 1, 0, 1, 0, 0, 1, 0, 0, 0, 0, 0, 0, 0, 0, 0, 0, 0, 0, 0, 0, 0, 0, 0, 0, 0, 0, 0, 0, 0, 0, 0, 0, 0, 0, 0, 0, 0, 0, 0, 0, 0, 0, 0, 0, 0, 0, 0, 0, 0, 0, 0, 0, 0, 0, 0, 0, 0, 0, 0, 0, 0, 0, 0, 0, 0, 1, 1, 0, 0, 0, 0, 1, 0, 0, 0, 0, 0, 0, 0, 0, 0, 0, 0, 1, 0, 0, 0, 0, 0, 1, 0, 0, 0, 0, 0, 0, 0, 0, 0, 0, 0, 0, 0, 0, 0, 0, 0, 0, 1, 0, 0, 0, 0, 0, 0, 0, 0, 0, 0, 1, 0, 0, 0, 1, 1, 0, 1, 0, 0, 0, 0, 0, 0, 0, 0, 0, 0, 0, 0, 1, 1, 0, 0, 0, 0, 1, 0, 0, 0, 0, 1, 0, 0, 0, 0, 0, 0, 0, 1, 1, 0, 0, 0, 0, 1, 0, 0, 0, 0, 0, 0, 0, 0, 0, 0, 0, 0, 0, 0, 0, 1, 1, 1, 0, 0, 0, 0, 0, 1, 0, 0, 1, 0, 0, 0, 0, 0, 0, 0, 1, 0, 0, 0, 0, 0, 0, 0, 0, 0, 0, 0, 0, 0, 0, 0, 0, 0, 0, 0, 0, 0, 0, 0, 1, 0, 0, 0, 0, 0, 0, 0, 0, 0, 0, 0, 1, 1, 0, 0, 0, 0, 0, 0, 0, 0, 0, 0, 0, 0, 0, 0, 0, 0, 0, 0, 0, 0, 0, 0, 0, 0, 1, 0, 0, 0, 0, 0, 1, 0, 1, 0, 0, 0, 0, 0, 0, 0, 1, 0, 0, 0, 0, 0, 0, 0, 0, 0, 0, 0, 0, 0, 0, 0, 0, 0, 0, 0, 0, 0, 0, 0, 0, 1, 1, 0, 0, 0, 0, 0, 0, 0, 0, 0, 0, 0, 0, 0, 0, 0, 0, 0, 0, 0, 0, 0, 0, 0, 0, 0, 0, 0, 0, 0, 0, 0, 0, 0, 0, 0, 0, 0, 0, 0, 0, 0, 0, 0, 0, 1, 0, 1, 0, 0, 0, 0, 0, 0, 0, 0, 0, 0, 0, 0, 0, 0, 0, 0, 0, 0, 0, 0, 0, 0, 0, 0, 0, 0, 0, 0, 0, 0, 0, 0, 0, 0, 0, 0, 0, 0, 0, 0, 0, 0, 0, 0, 0, 0, 0, 0, 1, 0, 1, 0, 0, 0, 0, 0, 0, 0, 0, 0, 0, 0, 0, 0, 0, 0, 0, 0, 0, 0, 0, 0, 0, 0, 0, 0, 0, 0, 0, 0, 0, 0, 0, 0, 0, 0, 0, 0, 0, 0, 0, 0, 0, 0, 1, 0, 0, 0, 0, 0, 0, 0, 0, 0, 0, 0, 0, 0, 1, 0, 0, 0, 0, 0, 0, 0, 0, 0, 0, 0, 0, 0, 0, 0, 0, 0, 0, 0, 0, 0, 0, 0, 0, 0, 0, 0, 0, 1, 0, 0, 0, 0, 1, 0, 0, 0, 0, 0, 0, 0, 0, 0, 0, 0, 0, 0, 0, 0, 0, 0, 0, 0, 1, 0, 0, 0, 0, 0, 1, 0, 0, 1, 0, 0, 0, 0, 0, 0, 0, 0, 0, 0, 0, 0, 0, 0, 0, 1, 0, 0, 0, 0, 0, 0, 1, 0, 0, 0, 0, 0, 0, 0, 0, 0, 0, 0, 0, 1, 0, 0, 0, 0, 0, 0, 0, 0, 0, 0, 0, 0, 0, 0, 0, 0, 0, 0, 0, 0, 0, 0, 0, 0, 0, 0, 0, 0, 0, 0, 0, 0, 0, 0, 0, 0, 0, 0, 0, 0, 0, 0, 0, 0, 0, 0, 0, 0, 1, 1, 0, 0, 0, 0, 0, 0, 0, 0, 0, 0, 0, 0, 0, 0, 0, 0, 0, 0, 0, 0, 0, 0, 0, 0, 1, 0, 0, 0, 0, 0, 0, 0, 0, 0, 0, 0, 0, 0, 0, 0, 0, 0, 0, 0, 1, 0, 0, 1, 0, 0, 0, 0, 0, 0, 0, 0, 0, 0, 0, 0, 0, 0, 0, 0, 0, 0, 1, 0, 0, 1, 0, 0, 1, 0, 0, 0, 0, 0, 0, 0, 0, 0, 0, 0, 0, 0, 0, 0, 0, 0, 0, 0, 0, 0, 0, 0, 1, 1, 0, 0, 0, 1, 0, 0, 0, 0, 0, 0, 0, 0, 0, 0, 0, 0, 0, 0, 1, 0, 0, 0, 0, 0, 0, 0, 0, 0, 0, 0, 0, 0, 0, 0, 0, 0, 0, 0, 0, 0, 0, 0, 0, 0, 0, 0, 0, 0, 1, 0, 0, 1, 0, 0, 0, 0, 1, 1, 1, 1, 1, 0, 0, 1, 0, 0, 0, 0, 0, 0, 0, 1, 0, 1, 0, 0, 0, 0, 0, 0, 0, 0, 0, 0, 0, 0, 0, 0, 0, 0, 0, 0, 0, 0, 0, 0, 1, 0, 0, 1, 0, 0, 0, 0, 1, 0, 0, 0, 0, 0, 0, 0, 0, 0, 0, 0, 1, 0, 1, 1, 0, 0, 1, 0, 0, 0, 0, 0, 0, 0, 0, 0, 0, 0, 0, 0, 0, 0, 0, 0, 0, 0, 0, 0, 0, 1, 0, 0, 0, 0, 0, 0, 0, 0, 0, 0, 0, 0, 0, 1, 0, 0, 0, 0, 0, 0, 0, 0, 0, 0, 0, 1, 0, 0, 0, 0, 0, 1, 0, 1, 0, 0, 0, 0, 0, 0, 0, 0, 0, 0, 0, 0, 0, 0, 0, 0, 0, 0, 0, 0, 0, 0, 0, 0, 0, 0, 0, 0, 0, 1, 0, 1, 0, 0, 0, 1, 1, 0, 0, 0, 0, 0, 0, 0, 1, 0, 0, 0, 0, 0, 0, 0, 0, 0, 0, 0, 0, 1, 0, 1, 0, 0, 0, 0, 0, 0, 0, 0, 0, 0, 0, 0, 0, 0, 0, 0, 0, 0, 1, 0, 0, 0, 0, 0, 0, 0, 0, 0, 0, 0, 0, 0, 0, 0, 0, 0, 0, 0, 0, 0, 0, 0, 0, 0, 0, 0, 0, 1, 0, 0, 0, 1, 0, 0, 0, 0, 0, 0, 0, 0, 0, 0, 0, 0, 0, 0, 0, 0, 0, 0, 0, 0, 0, 0, 0, 0, 0, 1, 1, 0, 0, 0, 0, 0, 0, 0, 0, 0, 0, 0, 0, 0, 0, 0, 0, 0, 0, 0, 0, 1, 0, 0, 0, 0, 0, 0, 0, 0, 0, 0, 0, 0, 0, 0, 1, 0, 0, 0, 0, 0, 0, 0, 0, 0, 0, 0, 0, 0, 0, 0, 0, 1, 0, 0, 0, 0, 0, 0, 0, 0, 0, 0, 0, 1, 0, 0, 0, 1, 1, 0, 0, 0, 1, 0, 0, 1, 0, 0, 0, 0, 0, 0, 0, 0, 0, 0, 1, 1, 0, 0, 0, 0, 0, 0, 0, 1, 0, 1, 0, 0, 0, 0, 0, 0, 0, 0, 0, 0, 0, 0, 0, 0, 0, 0, 0, 1, 0, 0, 0, 0, 0, 0, 0, 0, 0, 0, 0, 1, 0, 0, 0, 0, 0, 0, 0, 0, 0, 0, 0, 0, 1, 0, 0, 0, 0, 0, 0, 0, 0, 1, 0, 0, 0, 0, 0, 0, 0, 0, 0, 0, 0, 0, 0, 0, 0, 0, 0, 0, 0, 0, 0, 1, 0, 0, 1, 0, 0, 0, 0, 1, 0, 0, 0, 0, 0, 0, 0, 1, 0, 0, 0, 1, 0, 0, 0, 0, 0, 1, 0, 0, 1, 0, 0, 0, 0, 0, 0, 0, 0, 0, 0, 0, 0, 0, 0, 0, 1, 1, 0, 0, 0, 0, 0, 0, 0, 1, 0, 0, 0, 1, 0, 0, 0, 0, 0, 0, 0, 0, 0, 0, 0, 0, 0, 0, 0, 0, 0, 0, 0, 0, 0, 1, 0, 0, 0, 0, 0, 0, 0, 0, 0, 0, 0, 1, 0, 0, 0, 0, 0, 0, 0, 1, 0, 0, 0, 0, 0, 0, 0, 0, 0, 0, 0, 1, 0, 0, 0, 1, 0, 0, 0, 0, 0, 0, 0, 0, 0, 1, 0, 1, 0, 0, 0, 0, 0, 0, 0, 0, 0, 1, 0, 0, 0, 0, 0, 0, 0, 0, 1, 0, 0, 0, 0, 0, 0, 0, 0, 0, 0, 0, 0, 0, 0, 0, 0, 0, 0, 0, 0, 0, 1, 0, 0, 0, 0, 0, 0, 0, 0, 0, 0, 0, 0, 0, 0, 0, 0, 0, 0, 1, 0, 0, 0, 0, 0, 0, 0, 0, 0, 0, 0, 0, 0, 0, 0, 0, 0, 0, 0, 0, 0, 0, 0, 0, 0, 0, 0, 0, 0, 0, 0, 0, 0, 0, 0, 0, 0]\n",
      "accuracy: 0.8515\n",
      "      down   up\n",
      "down  1547  261\n",
      "up      36  156\n"
     ]
    }
   ],
   "source": [
    "pred = clf_rf.predict(X_test)\n",
    "cm = pd.DataFrame(confusion_matrix(y_test, pred).T, index=['down', 'up'], columns=['down', 'up'])\n",
    "print(\"predicted label:\", list(pred))\n",
    "print(\"accuracy:\", accuracy_score(pred, y_test))\n",
    "print(cm)"
   ]
  },
  {
   "cell_type": "markdown",
   "metadata": {},
   "source": [
    "1h) Repeat part e. for this random forest. Do you see any improvement in AUC?"
   ]
  },
  {
   "cell_type": "code",
   "execution_count": 26,
   "metadata": {},
   "outputs": [
    {
     "name": "stdout",
     "output_type": "stream",
     "text": [
      "false positive fraction: [0.00000000e+00 0.00000000e+00 0.00000000e+00 6.31711939e-04\n",
      " 6.31711939e-04 1.26342388e-03 1.26342388e-03 1.89513582e-03\n",
      " 1.89513582e-03 2.52684776e-03 2.52684776e-03 3.15855970e-03\n",
      " 3.15855970e-03 3.79027164e-03 3.79027164e-03 4.42198358e-03\n",
      " 4.42198358e-03 5.05369551e-03 5.05369551e-03 6.31711939e-03\n",
      " 6.31711939e-03 6.94883133e-03 6.94883133e-03 7.58054327e-03\n",
      " 7.58054327e-03 8.21225521e-03 8.21225521e-03 1.01073910e-02\n",
      " 1.01073910e-02 1.07391030e-02 1.07391030e-02 1.13708149e-02\n",
      " 1.13708149e-02 1.32659507e-02 1.32659507e-02 1.45293746e-02\n",
      " 1.45293746e-02 1.64245104e-02 1.64245104e-02 1.70562224e-02\n",
      " 1.70562224e-02 1.76879343e-02 1.76879343e-02 1.83196462e-02\n",
      " 1.83196462e-02 2.27416298e-02 2.27416298e-02 2.33733418e-02\n",
      " 2.33733418e-02 2.40050537e-02 2.40050537e-02 2.46367656e-02\n",
      " 2.46367656e-02 2.52684776e-02 2.52684776e-02 2.59001895e-02\n",
      " 2.59001895e-02 2.65319015e-02 2.65319015e-02 2.77953253e-02\n",
      " 2.77953253e-02 3.15855970e-02 3.15855970e-02 3.28490208e-02\n",
      " 3.28490208e-02 3.34807328e-02 3.34807328e-02 3.47441567e-02\n",
      " 3.47441567e-02 3.60075805e-02 3.60075805e-02 3.66392925e-02\n",
      " 3.66392925e-02 3.85344283e-02 3.85344283e-02 4.04295641e-02\n",
      " 4.04295641e-02 4.16929880e-02 4.16929880e-02 4.23246999e-02\n",
      " 4.23246999e-02 4.29564119e-02 4.29564119e-02 4.35881238e-02\n",
      " 4.35881238e-02 4.42198358e-02 4.42198358e-02 4.48515477e-02\n",
      " 4.48515477e-02 4.80101074e-02 4.80101074e-02 4.92735313e-02\n",
      " 4.92735313e-02 5.18003790e-02 5.18003790e-02 5.62223626e-02\n",
      " 5.62223626e-02 5.68540745e-02 5.68540745e-02 5.74857865e-02\n",
      " 5.74857865e-02 5.93809223e-02 5.93809223e-02 6.00126342e-02\n",
      " 6.00126342e-02 6.19077701e-02 6.19077701e-02 6.25394820e-02\n",
      " 6.25394820e-02 6.31711939e-02 6.31711939e-02 6.38029059e-02\n",
      " 6.38029059e-02 6.44346178e-02 6.44346178e-02 6.50663298e-02\n",
      " 6.50663298e-02 6.56980417e-02 6.56980417e-02 6.69614656e-02\n",
      " 6.94883133e-02 6.94883133e-02 7.07517372e-02 7.07517372e-02\n",
      " 7.13834491e-02 7.13834491e-02 7.26468730e-02 7.26468730e-02\n",
      " 7.77005685e-02 7.77005685e-02 7.83322805e-02 7.83322805e-02\n",
      " 8.14908402e-02 8.14908402e-02 8.27542641e-02 8.27542641e-02\n",
      " 8.33859760e-02 8.33859760e-02 8.59128238e-02 8.59128238e-02\n",
      " 8.78079596e-02 8.78079596e-02 8.84396715e-02 8.84396715e-02\n",
      " 8.97030954e-02 8.97030954e-02 9.28616551e-02 9.28616551e-02\n",
      " 9.53885028e-02 9.53885028e-02 9.98104864e-02 9.98104864e-02\n",
      " 1.02337334e-01 1.02337334e-01 1.04232470e-01 1.04232470e-01\n",
      " 1.11813013e-01 1.11813013e-01 1.13076437e-01 1.13076437e-01\n",
      " 1.13708149e-01 1.13708149e-01 1.16866709e-01 1.16866709e-01\n",
      " 1.20656980e-01 1.20656980e-01 1.23815540e-01 1.23815540e-01\n",
      " 1.30764371e-01 1.30764371e-01 1.35818067e-01 1.35818067e-01\n",
      " 1.36449779e-01 1.36449779e-01 1.40871762e-01 1.40871762e-01\n",
      " 1.44030322e-01 1.44030322e-01 1.45293746e-01 1.45293746e-01\n",
      " 1.50979154e-01 1.50979154e-01 1.51610865e-01 1.51610865e-01\n",
      " 1.53506001e-01 1.53506001e-01 1.54769425e-01 1.54769425e-01\n",
      " 1.56664561e-01 1.56664561e-01 1.57927985e-01 1.57927985e-01\n",
      " 1.59191409e-01 1.59191409e-01 1.61718256e-01 1.61718256e-01\n",
      " 1.65508528e-01 1.65508528e-01 1.67403664e-01 1.67403664e-01\n",
      " 1.70562224e-01 1.70562224e-01 1.73089071e-01 1.73089071e-01\n",
      " 1.73720783e-01 1.73720783e-01 1.74984207e-01 1.74984207e-01\n",
      " 1.76879343e-01 1.76879343e-01 1.77511055e-01 1.77511055e-01\n",
      " 1.78142767e-01 1.78142767e-01 1.80669615e-01 1.80669615e-01\n",
      " 1.81301327e-01 1.82564750e-01 1.83828174e-01 1.83828174e-01\n",
      " 1.85091598e-01 1.85091598e-01 1.86986734e-01 1.86986734e-01\n",
      " 1.90777006e-01 1.90777006e-01 1.99620973e-01 1.99620973e-01\n",
      " 2.01516109e-01 2.01516109e-01 2.03411244e-01 2.03411244e-01\n",
      " 2.04674668e-01 2.04674668e-01 2.05306380e-01 2.05306380e-01\n",
      " 2.05938092e-01 2.05938092e-01 2.07201516e-01 2.07201516e-01\n",
      " 2.11623500e-01 2.11623500e-01 2.12255212e-01 2.12255212e-01\n",
      " 2.12886924e-01 2.12886924e-01 2.13518636e-01 2.13518636e-01\n",
      " 2.14782059e-01 2.14782059e-01 2.19835755e-01 2.19835755e-01\n",
      " 2.22362603e-01 2.22362603e-01 2.24257738e-01 2.24257738e-01\n",
      " 2.25521162e-01 2.25521162e-01 2.26784586e-01 2.26784586e-01\n",
      " 2.31838282e-01 2.31838282e-01 2.34365130e-01 2.34365130e-01\n",
      " 2.35628553e-01 2.35628553e-01 2.36891977e-01 2.36891977e-01\n",
      " 2.39418825e-01 2.39418825e-01 2.41313961e-01 2.41313961e-01\n",
      " 2.43840809e-01 2.45104232e-01 2.47631080e-01 2.47631080e-01\n",
      " 2.48262792e-01 2.48262792e-01 2.49526216e-01 2.49526216e-01\n",
      " 2.50157928e-01 2.51421352e-01 2.51421352e-01 2.59001895e-01\n",
      " 2.59001895e-01 2.62792167e-01 2.62792167e-01 2.74794694e-01\n",
      " 2.74794694e-01 2.82375237e-01 2.82375237e-01 2.97536323e-01\n",
      " 2.97536323e-01 3.00694883e-01 3.00694883e-01 3.08275426e-01\n",
      " 3.08275426e-01 3.10802274e-01 3.10802274e-01 3.17119394e-01\n",
      " 3.17119394e-01 3.18382817e-01 3.18382817e-01 3.24699937e-01\n",
      " 3.24699937e-01 3.27858497e-01 3.27858497e-01 3.32912192e-01\n",
      " 3.32912192e-01 3.43019583e-01 3.43019583e-01 3.51863550e-01\n",
      " 3.51863550e-01 3.55653822e-01 3.56917246e-01 3.57548958e-01\n",
      " 3.57548958e-01 3.58812382e-01 3.58812382e-01 3.66392925e-01\n",
      " 3.66392925e-01 3.68288061e-01 3.68288061e-01 3.69551485e-01\n",
      " 3.70814908e-01 3.75236892e-01 3.75236892e-01 3.78395452e-01\n",
      " 3.79658876e-01 3.80290587e-01 3.81554011e-01 3.83449147e-01\n",
      " 3.83449147e-01 3.84080859e-01 3.86607707e-01 3.92293114e-01\n",
      " 3.93556538e-01 3.94188250e-01 3.94188250e-01 3.96083386e-01\n",
      " 3.96083386e-01 3.99241946e-01 3.99873658e-01 3.99873658e-01\n",
      " 4.01137081e-01 4.01137081e-01 4.03663929e-01 4.03663929e-01\n",
      " 4.05559065e-01 4.05559065e-01 4.08085913e-01 4.08085913e-01\n",
      " 4.09981049e-01 4.09981049e-01 4.11244473e-01 4.11244473e-01\n",
      " 4.20720152e-01 4.21983575e-01 4.22615287e-01 4.22615287e-01\n",
      " 4.29564119e-01 4.29564119e-01 4.31459255e-01 4.31459255e-01\n",
      " 4.37776374e-01 4.37776374e-01 4.54832596e-01 4.54832596e-01\n",
      " 4.60518004e-01 4.60518004e-01 4.78205938e-01 4.78205938e-01\n",
      " 4.95893872e-01 4.95893872e-01 5.07896399e-01 5.07896399e-01\n",
      " 5.09791535e-01 5.09791535e-01 5.10423247e-01 5.10423247e-01\n",
      " 5.22425774e-01 5.22425774e-01 5.24952622e-01 5.24952622e-01\n",
      " 5.31901453e-01 5.31901453e-01 5.34428301e-01 5.34428301e-01\n",
      " 5.37586860e-01 5.37586860e-01 5.40745420e-01 5.40745420e-01\n",
      " 5.43272268e-01 5.43272268e-01 5.44535692e-01 5.44535692e-01\n",
      " 5.54011371e-01 5.54011371e-01 5.58433354e-01 5.58433354e-01\n",
      " 5.76121289e-01 5.76121289e-01 5.84333544e-01 5.84333544e-01\n",
      " 5.86228680e-01 5.86228680e-01 5.94440935e-01 5.94440935e-01\n",
      " 6.04548326e-01 6.05811750e-01 6.22236260e-01 6.22236260e-01\n",
      " 6.43082754e-01 6.43082754e-01 6.48136450e-01 6.49399874e-01\n",
      " 6.50031586e-01 6.72141503e-01 6.72141503e-01 6.76563487e-01\n",
      " 6.77826911e-01 7.07517372e-01 7.07517372e-01 7.21415035e-01\n",
      " 7.21415035e-01 7.31522426e-01 7.31522426e-01 7.35312697e-01\n",
      " 7.35312697e-01 7.35944409e-01 7.35944409e-01 7.46683512e-01\n",
      " 7.46683512e-01 7.54264056e-01 7.55527479e-01 7.63739735e-01\n",
      " 7.63739735e-01 7.89639924e-01 7.89639924e-01 8.03537587e-01\n",
      " 8.04801011e-01 8.34491472e-01 8.34491472e-01 8.37018320e-01\n",
      " 8.38281744e-01 8.63550221e-01 8.63550221e-01 9.12823752e-01\n",
      " 9.14087176e-01 9.21036008e-01 9.22299431e-01 9.26089703e-01\n",
      " 9.26089703e-01 9.55780164e-01 9.57043588e-01 9.62097284e-01\n",
      " 9.63360708e-01 9.77890082e-01 9.79153506e-01 9.89260897e-01\n",
      " 9.90524321e-01 9.91156033e-01 9.93051169e-01 9.98104864e-01\n",
      " 9.99368288e-01 1.00000000e+00]\n",
      "true positive fraction: [0.         0.00239808 0.05275779 0.05275779 0.117506   0.117506\n",
      " 0.13429257 0.13429257 0.13669065 0.13669065 0.15827338 0.15827338\n",
      " 0.1942446  0.1942446  0.19664269 0.19664269 0.24460432 0.24460432\n",
      " 0.26378897 0.26378897 0.27338129 0.27338129 0.28057554 0.28057554\n",
      " 0.30215827 0.30215827 0.3117506  0.3117506  0.31654676 0.31654676\n",
      " 0.32374101 0.32374101 0.33333333 0.33333333 0.3381295  0.3381295\n",
      " 0.34532374 0.34532374 0.34772182 0.34772182 0.35971223 0.35971223\n",
      " 0.36930456 0.36930456 0.37170264 0.37170264 0.3764988  0.3764988\n",
      " 0.37889688 0.37889688 0.38129496 0.38129496 0.38369305 0.38369305\n",
      " 0.39088729 0.39088729 0.39328537 0.39328537 0.39568345 0.39568345\n",
      " 0.4028777  0.4028777  0.40527578 0.40527578 0.41007194 0.41007194\n",
      " 0.41486811 0.41486811 0.41726619 0.41726619 0.41966427 0.41966427\n",
      " 0.42685851 0.42685851 0.43405276 0.43405276 0.43645084 0.43645084\n",
      " 0.44604317 0.44604317 0.45563549 0.45563549 0.46043165 0.46043165\n",
      " 0.47242206 0.47242206 0.47961631 0.47961631 0.48441247 0.48441247\n",
      " 0.48681055 0.48681055 0.48920863 0.48920863 0.4940048  0.4940048\n",
      " 0.49640288 0.49640288 0.49880096 0.49880096 0.50359712 0.50359712\n",
      " 0.51079137 0.51079137 0.51318945 0.51318945 0.51558753 0.51558753\n",
      " 0.52038369 0.52038369 0.52997602 0.52997602 0.5323741  0.5323741\n",
      " 0.53477218 0.53477218 0.53717026 0.53717026 0.54676259 0.54676259\n",
      " 0.54676259 0.54916067 0.54916067 0.55155875 0.55155875 0.55395683\n",
      " 0.55395683 0.558753   0.558753   0.56115108 0.56115108 0.56354916\n",
      " 0.56354916 0.56594724 0.56594724 0.56834532 0.56834532 0.57074341\n",
      " 0.57074341 0.57553957 0.57553957 0.57793765 0.57793765 0.58033573\n",
      " 0.58033573 0.58273381 0.58273381 0.58513189 0.58513189 0.58992806\n",
      " 0.58992806 0.59232614 0.59232614 0.5971223  0.5971223  0.59952038\n",
      " 0.59952038 0.60191847 0.60191847 0.60911271 0.60911271 0.61151079\n",
      " 0.61151079 0.61390887 0.61390887 0.61630695 0.61630695 0.61870504\n",
      " 0.61870504 0.6235012  0.6235012  0.62589928 0.62589928 0.62829736\n",
      " 0.62829736 0.63069544 0.63069544 0.63309353 0.63309353 0.63549161\n",
      " 0.63549161 0.64028777 0.64028777 0.64268585 0.64268585 0.64508393\n",
      " 0.64508393 0.6498801  0.6498801  0.65467626 0.65467626 0.65707434\n",
      " 0.65707434 0.6618705  0.6618705  0.66426859 0.66426859 0.67146283\n",
      " 0.67146283 0.67386091 0.67386091 0.67625899 0.67625899 0.68105516\n",
      " 0.68105516 0.68585132 0.68585132 0.69064748 0.69064748 0.69304556\n",
      " 0.69304556 0.69544365 0.69544365 0.70023981 0.70023981 0.70263789\n",
      " 0.70263789 0.70263789 0.70263789 0.70983213 0.70983213 0.71223022\n",
      " 0.71223022 0.7146283  0.7146283  0.71702638 0.71702638 0.72182254\n",
      " 0.72182254 0.72422062 0.72422062 0.72661871 0.72661871 0.72901679\n",
      " 0.72901679 0.73141487 0.73141487 0.73381295 0.73381295 0.73860911\n",
      " 0.73860911 0.74100719 0.74100719 0.74340528 0.74340528 0.74580336\n",
      " 0.74580336 0.74820144 0.74820144 0.75059952 0.75059952 0.75539568\n",
      " 0.75539568 0.75779376 0.75779376 0.76019185 0.76019185 0.76258993\n",
      " 0.76258993 0.76498801 0.76498801 0.76738609 0.76738609 0.77218225\n",
      " 0.77218225 0.77458034 0.77458034 0.77697842 0.77697842 0.7793765\n",
      " 0.7793765  0.78417266 0.78417266 0.78417266 0.78417266 0.78657074\n",
      " 0.78657074 0.78896882 0.78896882 0.79376499 0.79376499 0.79376499\n",
      " 0.79616307 0.79616307 0.80095923 0.80095923 0.80335731 0.80335731\n",
      " 0.8057554  0.8057554  0.80815348 0.80815348 0.81294964 0.81294964\n",
      " 0.81534772 0.81534772 0.8177458  0.8177458  0.82014388 0.82014388\n",
      " 0.82494005 0.82494005 0.82733813 0.82733813 0.82973621 0.82973621\n",
      " 0.83213429 0.83213429 0.83453237 0.83453237 0.83693046 0.83693046\n",
      " 0.83932854 0.83932854 0.83932854 0.83932854 0.8441247  0.8441247\n",
      " 0.84652278 0.84652278 0.84892086 0.84892086 0.85131894 0.85131894\n",
      " 0.85131894 0.85131894 0.85371703 0.85371703 0.85611511 0.85611511\n",
      " 0.85611511 0.85611511 0.85851319 0.85851319 0.85851319 0.85851319\n",
      " 0.85851319 0.85851319 0.86091127 0.86091127 0.86330935 0.86330935\n",
      " 0.86570743 0.86810552 0.86810552 0.8705036  0.8705036  0.87529976\n",
      " 0.87529976 0.87769784 0.87769784 0.88009592 0.88009592 0.882494\n",
      " 0.882494   0.88489209 0.88489209 0.88489209 0.88489209 0.88729017\n",
      " 0.88729017 0.88968825 0.88968825 0.89208633 0.89208633 0.89448441\n",
      " 0.89448441 0.89928058 0.89928058 0.90407674 0.90407674 0.90647482\n",
      " 0.90647482 0.9088729  0.9088729  0.91846523 0.91846523 0.92086331\n",
      " 0.92086331 0.92565947 0.92565947 0.92805755 0.92805755 0.93045564\n",
      " 0.93045564 0.93285372 0.93285372 0.9352518  0.9352518  0.93764988\n",
      " 0.93764988 0.94004796 0.94004796 0.94244604 0.94244604 0.94484412\n",
      " 0.94484412 0.94964029 0.94964029 0.95443645 0.95443645 0.95683453\n",
      " 0.95683453 0.95923261 0.95923261 0.9616307  0.9616307  0.96402878\n",
      " 0.96402878 0.96402878 0.96402878 0.96642686 0.96642686 0.96882494\n",
      " 0.96882494 0.96882494 0.97122302 0.97122302 0.9736211  0.9736211\n",
      " 0.9736211  0.9736211  0.97601918 0.97601918 0.97841727 0.97841727\n",
      " 0.98081535 0.98081535 0.98321343 0.98321343 0.98561151 0.98561151\n",
      " 0.98800959 0.98800959 0.98800959 0.98800959 0.99040767 0.99040767\n",
      " 0.99280576 0.99280576 0.99280576 0.99280576 0.99520384 0.99520384\n",
      " 0.99520384 0.99520384 0.99760192 0.99760192 0.99760192 0.99760192\n",
      " 0.99760192 0.99760192 1.         1.         1.         1.\n",
      " 1.         1.         1.         1.         1.         1.\n",
      " 1.         1.         1.         1.        ]\n",
      "thresholds: [1.92599816 0.92599816 0.81002233 0.78234653 0.69104329 0.68930956\n",
      " 0.66468514 0.6643538  0.6619111  0.66183032 0.64640648 0.64633057\n",
      " 0.63904216 0.6381969  0.63762349 0.63546836 0.61108274 0.6109052\n",
      " 0.60258677 0.60220638 0.60084783 0.59928414 0.59796752 0.59726408\n",
      " 0.59043221 0.58929747 0.58632537 0.5839896  0.5819563  0.57810676\n",
      " 0.57290443 0.57161255 0.56117848 0.5530482  0.54396516 0.54291013\n",
      " 0.53314573 0.52677901 0.52575763 0.5255354  0.52113727 0.52046807\n",
      " 0.51782778 0.51743244 0.51689193 0.50775907 0.49923802 0.49577465\n",
      " 0.49569498 0.49361254 0.49180419 0.48779794 0.48276731 0.47736418\n",
      " 0.4561488  0.45531809 0.45308593 0.44804873 0.44555972 0.43418215\n",
      " 0.43090531 0.42665031 0.42264464 0.41839355 0.41779399 0.41752433\n",
      " 0.41408748 0.41300486 0.41256499 0.41187157 0.41136795 0.41115461\n",
      " 0.40772688 0.40555211 0.39997023 0.39046017 0.38850535 0.38358158\n",
      " 0.38032971 0.37966966 0.37809422 0.37767379 0.37694918 0.37690345\n",
      " 0.37500748 0.37493381 0.3732248  0.37282942 0.37097772 0.36686618\n",
      " 0.36632567 0.36596523 0.36543071 0.36467379 0.36299477 0.35787262\n",
      " 0.35657508 0.35224159 0.35071015 0.35043539 0.34898116 0.34557042\n",
      " 0.34483209 0.34469787 0.34467724 0.34405691 0.3433568  0.34280909\n",
      " 0.34183283 0.34127868 0.33879283 0.33862161 0.33858973 0.33837621\n",
      " 0.33741359 0.33726704 0.33671477 0.33601218 0.33558751 0.33533447\n",
      " 0.33351986 0.33328653 0.33263338 0.33258494 0.33256171 0.33218595\n",
      " 0.33085693 0.32948141 0.32563885 0.32223644 0.32095583 0.32004632\n",
      " 0.3177895  0.31737634 0.31691585 0.31481413 0.31477471 0.31393114\n",
      " 0.30866524 0.30825235 0.3053264  0.30441019 0.30435954 0.3033555\n",
      " 0.30210746 0.30041157 0.29904728 0.29887711 0.29656868 0.29510261\n",
      " 0.29208027 0.29093055 0.2883266  0.28667585 0.2844522  0.28433852\n",
      " 0.28007328 0.2799396  0.27922408 0.27807981 0.27751355 0.2771303\n",
      " 0.27386189 0.27231156 0.26902436 0.26859029 0.26639304 0.26537142\n",
      " 0.25472414 0.25403365 0.24983344 0.24978671 0.24933364 0.24851168\n",
      " 0.24596056 0.24589574 0.24485859 0.24409907 0.24391405 0.24379173\n",
      " 0.24040496 0.23939639 0.23922499 0.23872849 0.23774231 0.23755642\n",
      " 0.23727066 0.2372464  0.23577532 0.23519017 0.23412201 0.23393292\n",
      " 0.23324486 0.23092147 0.230117   0.22900581 0.22590473 0.2250859\n",
      " 0.22446184 0.22317672 0.22246074 0.22245676 0.21887781 0.21865113\n",
      " 0.21845869 0.21730864 0.21694366 0.21596155 0.21535911 0.21493831\n",
      " 0.21414582 0.2137965  0.21365775 0.2133556  0.21255831 0.21209814\n",
      " 0.21200055 0.21170462 0.21153469 0.2084422  0.20788988 0.20773206\n",
      " 0.20549257 0.20540527 0.20393859 0.20285267 0.20051791 0.20025358\n",
      " 0.19888969 0.19811408 0.19760659 0.1970556  0.19654345 0.19587898\n",
      " 0.19573796 0.19572668 0.1953969  0.19507115 0.19484041 0.19408048\n",
      " 0.19355386 0.19332372 0.19305688 0.19288461 0.19280177 0.19277359\n",
      " 0.19249932 0.19238391 0.19231428 0.19218457 0.19177778 0.19092345\n",
      " 0.19021172 0.19004365 0.18967035 0.1896072  0.18912784 0.18902762\n",
      " 0.18848154 0.18846753 0.18744337 0.18744185 0.1870146  0.1869707\n",
      " 0.18693049 0.186718   0.18634811 0.18628968 0.18600245 0.18583274\n",
      " 0.18538158 0.18517557 0.18452772 0.18421849 0.18371566 0.18361332\n",
      " 0.18308291 0.18264765 0.18190145 0.18165718 0.18155403 0.18133697\n",
      " 0.18132365 0.17781911 0.17636853 0.17478543 0.17413911 0.16972542\n",
      " 0.16948886 0.16675025 0.16604817 0.16149866 0.16146496 0.16097619\n",
      " 0.16096828 0.15999219 0.15997842 0.15937237 0.15919551 0.15829068\n",
      " 0.15820634 0.15811765 0.15794702 0.15610453 0.1557945  0.15243653\n",
      " 0.15234655 0.15168842 0.15162854 0.1499317  0.14979539 0.148631\n",
      " 0.1485178  0.1481993  0.14810127 0.14806634 0.14798402 0.1477808\n",
      " 0.14769479 0.14700626 0.14700465 0.14673538 0.14667986 0.1466034\n",
      " 0.14633605 0.14597861 0.14594556 0.14586489 0.14577225 0.14568747\n",
      " 0.14555787 0.14535996 0.14529587 0.14529405 0.14515618 0.14436653\n",
      " 0.14425533 0.14421711 0.14412481 0.14378603 0.14326841 0.14277323\n",
      " 0.14272884 0.14267458 0.14250561 0.14234828 0.14138426 0.14114921\n",
      " 0.14107854 0.14105254 0.14078342 0.14077638 0.1407499  0.14074343\n",
      " 0.14068654 0.14068331 0.13917351 0.13913316 0.13912659 0.13911245\n",
      " 0.13761524 0.13742298 0.13690131 0.13676769 0.13557887 0.13549369\n",
      " 0.13255243 0.13248268 0.13182026 0.13180739 0.12886168 0.12882644\n",
      " 0.12738376 0.12711202 0.12632649 0.12596296 0.1257206  0.12542282\n",
      " 0.12534277 0.12499967 0.1232031  0.12312803 0.12297165 0.1229681\n",
      " 0.12224937 0.12223809 0.12197773 0.12196506 0.12144939 0.12127294\n",
      " 0.12011702 0.11992429 0.11953049 0.11950829 0.11910728 0.11873357\n",
      " 0.11585866 0.11578376 0.11473377 0.11468713 0.1120638  0.11205867\n",
      " 0.11011492 0.11007183 0.10967532 0.10963317 0.10838269 0.10833494\n",
      " 0.10661488 0.10660267 0.10431179 0.10409931 0.10223869 0.10210298\n",
      " 0.101663   0.1015874  0.1015674  0.09839442 0.09826106 0.09766463\n",
      " 0.09766213 0.09220117 0.09207136 0.08943046 0.08926822 0.08709859\n",
      " 0.08707945 0.08658359 0.08647559 0.0864247  0.08626226 0.08434565\n",
      " 0.0839739  0.08212272 0.08199432 0.07858408 0.07837726 0.07392538\n",
      " 0.07388067 0.07259387 0.07257401 0.06900266 0.06896032 0.06836449\n",
      " 0.06836249 0.05991332 0.05981472 0.05359318 0.05359153 0.0529332\n",
      " 0.05287262 0.05250193 0.05242412 0.04658279 0.0458558  0.04167083\n",
      " 0.04159047 0.03912361 0.03909942 0.03815815 0.03808913 0.03808497\n",
      " 0.03803599 0.03755179 0.03744693 0.03723321]\n"
     ]
    }
   ],
   "source": [
    "score_rf = clf_rf.predict_proba(X_test)\n",
    "fpr, tpr, thresholds = roc_curve(y_test, score_rf[:, 1])\n",
    "print ('false positive fraction:', fpr)\n",
    "print ('true positive fraction:', tpr)\n",
    "print ('thresholds:', thresholds)"
   ]
  },
  {
   "cell_type": "code",
   "execution_count": 27,
   "metadata": {},
   "outputs": [
    {
     "data": {
      "image/png": "[encoded data removed]",
      "text/plain": [
       "<Figure size 432x288 with 1 Axes>"
      ]
     },
     "metadata": {
      "needs_background": "light"
     },
     "output_type": "display_data"
    }
   ],
   "source": [
    "roc_auc = auc(fpr, tpr)\n",
    "plt.figure(figsize=(6, 4))\n",
    "plt.plot(fpr, tpr)\n",
    "plt.plot([0, 1], [0, 1], 'k--')\n",
    "plt.xlim([0.0, 1.0])\n",
    "plt.ylim([0.0, 1.05])\n",
    "plt.xlabel('False Positive Rate')\n",
    "plt.ylabel('True Positive Rate')\n",
    "plt.title('ROC curve (area = %0.2f)' % roc_auc)\n",
    "plt.show()"
   ]
  },
  {
   "cell_type": "markdown",
   "metadata": {},
   "source": [
    "Q2"
   ]
  },
  {
   "cell_type": "markdown",
   "metadata": {},
   "source": [
    "2a) Show that KOSPI2 has the highest feature importance for this training data at this learning rate of 0.01."
   ]
  },
  {
   "cell_type": "code",
   "execution_count": 28,
   "metadata": {},
   "outputs": [
    {
     "name": "stderr",
     "output_type": "stream",
     "text": [
      "C:\\Users\\michi\\Anaconda3\\envs\\tfenv\\lib\\site-packages\\sklearn\\ensemble\\gradient_boosting.py:1450: DataConversionWarning: A column-vector y was passed when a 1d array was expected. Please change the shape of y to (n_samples, ), for example using ravel().\n",
      "  y = column_or_1d(y, warn=True)\n"
     ]
    },
    {
     "data": {
      "text/plain": [
       "GradientBoostingRegressor(alpha=0.9, criterion='friedman_mse', init=None,\n",
       "                          learning_rate=0.01, loss='ls', max_depth=2,\n",
       "                          max_features=None, max_leaf_nodes=None,\n",
       "                          min_impurity_decrease=0.0, min_impurity_split=None,\n",
       "                          min_samples_leaf=1, min_samples_split=2,\n",
       "                          min_weight_fraction_leaf=0.0, n_estimators=500,\n",
       "                          n_iter_no_change=None, presort='auto', random_state=1,\n",
       "                          subsample=1.0, tol=0.0001, validation_fraction=0.1,\n",
       "                          verbose=0, warm_start=False)"
      ]
     },
     "execution_count": 28,
     "metadata": {},
     "output_type": "execute_result"
    }
   ],
   "source": [
    "regr_boosted = GradientBoostingRegressor(n_estimators=500, learning_rate=0.01, max_depth=2, random_state=1)\n",
    "regr_boosted.fit(X_train, y_train)"
   ]
  },
  {
   "cell_type": "code",
   "execution_count": 29,
   "metadata": {},
   "outputs": [
    {
     "data": {
      "image/png": "[encoded data removed]",
      "text/plain": [
       "<Figure size 432x288 with 1 Axes>"
      ]
     },
     "metadata": {
      "needs_background": "light"
     },
     "output_type": "display_data"
    }
   ],
   "source": [
    "Importance = pd.DataFrame({'Importance': regr_boosted.feature_importances_*100}, index=X.columns)\n",
    "Importance.sort_values(by='Importance', axis=0, ascending=True).plot(kind='barh', color='r')\n",
    "plt.xlabel('Variable Importance')\n",
    "plt.gca().legend_ = None"
   ]
  },
  {
   "cell_type": "markdown",
   "metadata": {},
   "source": [
    "2b) What is the MSE for the test data at this learning rate of 0.01?"
   ]
  },
  {
   "cell_type": "code",
   "execution_count": 30,
   "metadata": {},
   "outputs": [
    {
     "data": {
      "text/plain": [
       "0.1118511001055327"
      ]
     },
     "execution_count": 30,
     "metadata": {},
     "output_type": "execute_result"
    }
   ],
   "source": [
    "mean_squared_error(y_test, regr_boosted.predict(X_test))"
   ]
  },
  {
   "cell_type": "markdown",
   "metadata": {},
   "source": [
    "2c) Repeat your calculation of MSE for the test data at various learning rates from 0.01, 0.02 ,… 0.09, 0.10. Show that the test MSE rises with the learning rate. Hence, this confirms the notion that a gradual learner tends to lower the classification variance, i.e., “taking lots of small steps in the right direction results in better prediction in testing”."
   ]
  },
  {
   "cell_type": "code",
   "execution_count": 31,
   "metadata": {},
   "outputs": [
    {
     "data": {
      "image/png": "[encoded data removed]",
      "text/plain": [
       "<Figure size 432x288 with 1 Axes>"
      ]
     },
     "metadata": {
      "needs_background": "light"
     },
     "output_type": "display_data"
    }
   ],
   "source": [
    "mse_list = []\n",
    "for i in range(10):\n",
    "    regr_boosted = GradientBoostingRegressor(n_estimators=500, learning_rate=0.01 * (i + 1), max_depth=2, random_state=1)\n",
    "    regr_boosted.fit(X_train, y_train.values.ravel())\n",
    "    mse_list.append(mean_squared_error(y_test, regr_boosted.predict(X_test)))\n",
    "plt.plot(mse_list)\n",
    "plt.show()"
   ]
  },
  {
   "cell_type": "markdown",
   "metadata": {},
   "source": [
    "Q3"
   ]
  },
  {
   "cell_type": "markdown",
   "metadata": {},
   "source": [
    "3a) First, import stockdata2.csv into your ipynb, then assign hsi_close as the y-variable, and hscei_close, nky_close as the x-variables."
   ]
  },
  {
   "cell_type": "code",
   "execution_count": 33,
   "metadata": {},
   "outputs": [
    {
     "name": "stderr",
     "output_type": "stream",
     "text": [
      "C:\\Users\\michi\\Anaconda3\\envs\\tfenv\\lib\\site-packages\\ipykernel_launcher.py:5: SettingWithCopyWarning: \n",
      "A value is trying to be set on a copy of a slice from a DataFrame\n",
      "\n",
      "See the caveats in the documentation: http://pandas.pydata.org/pandas-docs/stable/indexing.html#indexing-view-versus-copy\n",
      "  \"\"\"\n",
      "C:\\Users\\michi\\Anaconda3\\envs\\tfenv\\lib\\site-packages\\ipykernel_launcher.py:6: SettingWithCopyWarning: \n",
      "A value is trying to be set on a copy of a slice from a DataFrame\n",
      "\n",
      "See the caveats in the documentation: http://pandas.pydata.org/pandas-docs/stable/indexing.html#indexing-view-versus-copy\n",
      "  \n"
     ]
    },
    {
     "data": {
      "text/html": [
       "<div>\n",
       "<style scoped>\n",
       "    .dataframe tbody tr th:only-of-type {\n",
       "        vertical-align: middle;\n",
       "    }\n",
       "\n",
       "    .dataframe tbody tr th {\n",
       "        vertical-align: top;\n",
       "    }\n",
       "\n",
       "    .dataframe thead th {\n",
       "        text-align: right;\n",
       "    }\n",
       "</style>\n",
       "<table border=\"1\" class=\"dataframe\">\n",
       "  <thead>\n",
       "    <tr style=\"text-align: right;\">\n",
       "      <th></th>\n",
       "      <th>CreditScore</th>\n",
       "      <th>Geography</th>\n",
       "      <th>Gender</th>\n",
       "      <th>Age</th>\n",
       "      <th>Tenure</th>\n",
       "      <th>Balance</th>\n",
       "      <th>NumOfProducts</th>\n",
       "      <th>HasCrCard</th>\n",
       "      <th>IsActiveMember</th>\n",
       "      <th>EstimatedSalary</th>\n",
       "      <th>Exited</th>\n",
       "    </tr>\n",
       "    <tr>\n",
       "      <th>CustomerId</th>\n",
       "      <th></th>\n",
       "      <th></th>\n",
       "      <th></th>\n",
       "      <th></th>\n",
       "      <th></th>\n",
       "      <th></th>\n",
       "      <th></th>\n",
       "      <th></th>\n",
       "      <th></th>\n",
       "      <th></th>\n",
       "      <th></th>\n",
       "    </tr>\n",
       "  </thead>\n",
       "  <tbody>\n",
       "    <tr>\n",
       "      <th>15653937</th>\n",
       "      <td>638</td>\n",
       "      <td>Germany</td>\n",
       "      <td>0</td>\n",
       "      <td>53</td>\n",
       "      <td>1</td>\n",
       "      <td>123916.67</td>\n",
       "      <td>1</td>\n",
       "      <td>1</td>\n",
       "      <td>0</td>\n",
       "      <td>16657.68</td>\n",
       "      <td>1</td>\n",
       "    </tr>\n",
       "    <tr>\n",
       "      <th>15812197</th>\n",
       "      <td>850</td>\n",
       "      <td>France</td>\n",
       "      <td>1</td>\n",
       "      <td>38</td>\n",
       "      <td>7</td>\n",
       "      <td>80293.98</td>\n",
       "      <td>1</td>\n",
       "      <td>0</td>\n",
       "      <td>0</td>\n",
       "      <td>126555.74</td>\n",
       "      <td>0</td>\n",
       "    </tr>\n",
       "    <tr>\n",
       "      <th>15741032</th>\n",
       "      <td>733</td>\n",
       "      <td>France</td>\n",
       "      <td>1</td>\n",
       "      <td>48</td>\n",
       "      <td>5</td>\n",
       "      <td>0.00</td>\n",
       "      <td>1</td>\n",
       "      <td>0</td>\n",
       "      <td>1</td>\n",
       "      <td>117830.57</td>\n",
       "      <td>0</td>\n",
       "    </tr>\n",
       "    <tr>\n",
       "      <th>15673367</th>\n",
       "      <td>587</td>\n",
       "      <td>Germany</td>\n",
       "      <td>1</td>\n",
       "      <td>33</td>\n",
       "      <td>6</td>\n",
       "      <td>132603.36</td>\n",
       "      <td>1</td>\n",
       "      <td>1</td>\n",
       "      <td>0</td>\n",
       "      <td>55775.72</td>\n",
       "      <td>0</td>\n",
       "    </tr>\n",
       "    <tr>\n",
       "      <th>15718773</th>\n",
       "      <td>638</td>\n",
       "      <td>France</td>\n",
       "      <td>0</td>\n",
       "      <td>32</td>\n",
       "      <td>0</td>\n",
       "      <td>0.00</td>\n",
       "      <td>2</td>\n",
       "      <td>1</td>\n",
       "      <td>0</td>\n",
       "      <td>160129.99</td>\n",
       "      <td>0</td>\n",
       "    </tr>\n",
       "    <tr>\n",
       "      <th>15593499</th>\n",
       "      <td>686</td>\n",
       "      <td>Spain</td>\n",
       "      <td>0</td>\n",
       "      <td>47</td>\n",
       "      <td>6</td>\n",
       "      <td>0.00</td>\n",
       "      <td>1</td>\n",
       "      <td>1</td>\n",
       "      <td>0</td>\n",
       "      <td>32080.69</td>\n",
       "      <td>1</td>\n",
       "    </tr>\n",
       "    <tr>\n",
       "      <th>15737977</th>\n",
       "      <td>527</td>\n",
       "      <td>France</td>\n",
       "      <td>0</td>\n",
       "      <td>25</td>\n",
       "      <td>6</td>\n",
       "      <td>0.00</td>\n",
       "      <td>2</td>\n",
       "      <td>0</td>\n",
       "      <td>1</td>\n",
       "      <td>96758.58</td>\n",
       "      <td>0</td>\n",
       "    </tr>\n",
       "    <tr>\n",
       "      <th>15644132</th>\n",
       "      <td>724</td>\n",
       "      <td>France</td>\n",
       "      <td>0</td>\n",
       "      <td>30</td>\n",
       "      <td>9</td>\n",
       "      <td>142475.87</td>\n",
       "      <td>1</td>\n",
       "      <td>1</td>\n",
       "      <td>1</td>\n",
       "      <td>107848.24</td>\n",
       "      <td>0</td>\n",
       "    </tr>\n",
       "    <tr>\n",
       "      <th>15633897</th>\n",
       "      <td>725</td>\n",
       "      <td>Germany</td>\n",
       "      <td>1</td>\n",
       "      <td>39</td>\n",
       "      <td>1</td>\n",
       "      <td>50880.98</td>\n",
       "      <td>2</td>\n",
       "      <td>1</td>\n",
       "      <td>1</td>\n",
       "      <td>184023.54</td>\n",
       "      <td>0</td>\n",
       "    </tr>\n",
       "    <tr>\n",
       "      <th>15716347</th>\n",
       "      <td>663</td>\n",
       "      <td>Germany</td>\n",
       "      <td>1</td>\n",
       "      <td>37</td>\n",
       "      <td>7</td>\n",
       "      <td>143625.83</td>\n",
       "      <td>2</td>\n",
       "      <td>0</td>\n",
       "      <td>1</td>\n",
       "      <td>176487.05</td>\n",
       "      <td>0</td>\n",
       "    </tr>\n",
       "  </tbody>\n",
       "</table>\n",
       "</div>"
      ],
      "text/plain": [
       "            CreditScore Geography Gender  Age  Tenure    Balance  \\\n",
       "CustomerId                                                         \n",
       "15653937            638   Germany      0   53       1  123916.67   \n",
       "15812197            850    France      1   38       7   80293.98   \n",
       "15741032            733    France      1   48       5       0.00   \n",
       "15673367            587   Germany      1   33       6  132603.36   \n",
       "15718773            638    France      0   32       0       0.00   \n",
       "15593499            686     Spain      0   47       6       0.00   \n",
       "15737977            527    France      0   25       6       0.00   \n",
       "15644132            724    France      0   30       9  142475.87   \n",
       "15633897            725   Germany      1   39       1   50880.98   \n",
       "15716347            663   Germany      1   37       7  143625.83   \n",
       "\n",
       "            NumOfProducts  HasCrCard  IsActiveMember  EstimatedSalary  Exited  \n",
       "CustomerId                                                                     \n",
       "15653937                1          1               0         16657.68       1  \n",
       "15812197                1          0               0        126555.74       0  \n",
       "15741032                1          0               1        117830.57       0  \n",
       "15673367                1          1               0         55775.72       0  \n",
       "15718773                2          1               0        160129.99       0  \n",
       "15593499                1          1               0         32080.69       1  \n",
       "15737977                2          0               1         96758.58       0  \n",
       "15644132                1          1               1        107848.24       0  \n",
       "15633897                2          1               1        184023.54       0  \n",
       "15716347                2          0               1        176487.05       0  "
      ]
     },
     "execution_count": 33,
     "metadata": {},
     "output_type": "execute_result"
    }
   ],
   "source": [
    "mydata = pd.read_csv(\"Churn_Modelling.csv\", index_col=[1])\n",
    "del mydata['RowNumber']\n",
    "del mydata['Surname']\n",
    "\n",
    "mydata.Gender[mydata.Gender == 'Male'] = 1\n",
    "mydata.Gender[mydata.Gender == 'Female'] = 0\n",
    "mydata.sample(10)"
   ]
  },
  {
   "cell_type": "markdown",
   "metadata": {},
   "source": [
    "3b) Use MinMaxScaler((-1, 1)) to transform the x-variables, then plot the transformed x on a graph, using the y-variable as the color."
   ]
  },
  {
   "cell_type": "code",
   "execution_count": 35,
   "metadata": {},
   "outputs": [],
   "source": [
    "scaler_x = MinMaxScaler((-1, 1)) \n",
    "x = mydata.loc[:, expl].values\n",
    "y = mydata.loc[:, \"Exited\"].values\n",
    "sX = scaler_x.fit_transform(x)"
   ]
  },
  {
   "cell_type": "code",
   "execution_count": 36,
   "metadata": {},
   "outputs": [
    {
     "data": {
      "image/png": "[encoded data removed]",
      "text/plain": [
       "<Figure size 432x288 with 1 Axes>"
      ]
     },
     "metadata": {
      "needs_background": "light"
     },
     "output_type": "display_data"
    }
   ],
   "source": [
    "plt.figure(figsize=(6, 4))\n",
    "plt.scatter(sX[:, 0], sX[:, 1], c=y)\n",
    "plt.xlabel(\"hscei_close\")\n",
    "plt.ylabel(\"nky_close\")\n",
    "plt.show()"
   ]
  },
  {
   "cell_type": "markdown",
   "metadata": {},
   "source": [
    "3c) Using the python code from tutorial 6, draw 2 dendrograms using this dataset, one for H_C_ward (the Ward method) and one for H_C_complete (the complete linkage method). You can assign n_clusters = 4 in both cases."
   ]
  },
  {
   "cell_type": "code",
   "execution_count": 37,
   "metadata": {},
   "outputs": [],
   "source": [
    "def plot_dendrogram(model, **kwargs): # provided by Mathew Kallada. \n",
    "\n",
    "    # Children of hierarchical clustering\n",
    "    children = model.children_\n",
    "\n",
    "    # Distances between each pair of children\n",
    "    # Since we don't have this information, we can use a uniform one for plotting\n",
    "    distance = np.arange(children.shape[0])\n",
    "\n",
    "    # The number of observations contained in each cluster level\n",
    "    no_of_observations = np.arange(2, children.shape[0]+2)\n",
    "\n",
    "    # Create linkage matrix and then plot the dendrogram\n",
    "    linkage_matrix = np.column_stack([children, distance, no_of_observations]).astype(float)\n",
    "    \n",
    "    sch.dendrogram(linkage_matrix, **kwargs)"
   ]
  },
  {
   "cell_type": "code",
   "execution_count": 42,
   "metadata": {},
   "outputs": [
    {
     "data": {
      "image/png": "[encoded data removed]",
      "text/plain": [
       "<Figure size 1800x720 with 2 Axes>"
      ]
     },
     "metadata": {
      "needs_background": "light"
     },
     "output_type": "display_data"
    }
   ],
   "source": [
    "H_C_ward = AgglomerativeClustering(n_clusters=4) # default linkage is ward. \n",
    "H_C_complete = AgglomerativeClustering(n_clusters=4, linkage='complete')\n",
    "\n",
    "pred_hc_ward = H_C_ward.fit_predict(sX)\n",
    "pred_hc_complete = H_C_complete.fit_predict(sX)\n",
    "\n",
    "fig = plt.figure(figsize=(25, 10))\n",
    "ax = fig.add_subplot(1, 2, 1)\n",
    "plot_dendrogram(H_C_ward)\n",
    "ax.set_title('Linkage method is ward')\n",
    "\n",
    "ax = fig.add_subplot(1, 2, 2)\n",
    "Z2 = plot_dendrogram(H_C_complete)\n",
    "ax.set_title('Linkage method is complete')\n",
    "plt.show()"
   ]
  },
  {
   "cell_type": "markdown",
   "metadata": {},
   "source": [
    "3d) Using part c, show the Ward linkage clusters and the comlete linkage clusters side-by-side. Based on the true hsi_close values (color) in the MinMaxScaler plot in part b, which linkage method achieves a better result?"
   ]
  },
  {
   "cell_type": "code",
   "execution_count": 43,
   "metadata": {},
   "outputs": [
    {
     "data": {
      "image/png": "[encoded data removed]",
      "text/plain": [
       "<Figure size 1296x432 with 2 Axes>"
      ]
     },
     "metadata": {
      "needs_background": "light"
     },
     "output_type": "display_data"
    }
   ],
   "source": [
    "f = plt.figure(figsize=(18, 6))\n",
    "ax = f.add_subplot(1, 3, 1)\n",
    "ax.scatter(sX[:, 0], sX[:, 1], c=pred_hc_ward, edgecolors='k')\n",
    "ax.set_title(\"Ward linkage clustering\", fontsize=20)\n",
    "ax = f.add_subplot(1, 3, 2)\n",
    "ax.scatter(sX[:, 0], sX[:, 1], c=pred_hc_complete, edgecolors='k')\n",
    "ax.set_title(\"Complete linkage clustering\", fontsize=20)\n",
    "plt.show()"
   ]
  },
  {
   "cell_type": "markdown",
   "metadata": {},
   "source": [
    "**Remark: Ward and Complete produce more or less similar clusters, although Ward performs a little better in the south west region, where the yellow cluster and blue cluster are separated, just like the MinMaxScaler plot.**"
   ]
  },
  {
   "cell_type": "markdown",
   "metadata": {},
   "source": [
    "3e) Now, draw the DBSCAN clusters using the parameters DBSCAN(eps=0.3, min_samples=20)."
   ]
  },
  {
   "cell_type": "code",
   "execution_count": 44,
   "metadata": {},
   "outputs": [],
   "source": [
    "dbscan = DBSCAN(eps=0.3, min_samples=20)\n",
    "y_pred = dbscan.fit_predict(sX)"
   ]
  },
  {
   "cell_type": "markdown",
   "metadata": {},
   "source": [
    "3f) How many clusters and noise points have been estimated by this DBSCAN algorithm?"
   ]
  },
  {
   "cell_type": "code",
   "execution_count": 45,
   "metadata": {},
   "outputs": [
    {
     "name": "stdout",
     "output_type": "stream",
     "text": [
      "Estimated number of clusters: 0\n",
      "Estimated number of noise points: 10000\n"
     ]
    }
   ],
   "source": [
    "labels = dbscan.labels_\n",
    "\n",
    "# Number of clusters in labels, ignoring noise if present.\n",
    "n_clusters_ = len(set(labels)) - (1 if -1 in labels else 0)\n",
    "n_noise_ = list(labels).count(-1)\n",
    "\n",
    "print('Estimated number of clusters: %d' % n_clusters_)\n",
    "print('Estimated number of noise points: %d' % n_noise_)"
   ]
  },
  {
   "cell_type": "markdown",
   "metadata": {},
   "source": [
    "3g) Do you think the DBSCAN clusters are more realistic than the linkage clusters in part d, based on the true distribution in the MinMaxScaler plot?"
   ]
  },
  {
   "cell_type": "code",
   "execution_count": 46,
   "metadata": {},
   "outputs": [
    {
     "data": {
      "image/png": "[encoded data removed]",
      "text/plain": [
       "<Figure size 432x288 with 1 Axes>"
      ]
     },
     "metadata": {
      "needs_background": "light"
     },
     "output_type": "display_data"
    }
   ],
   "source": [
    "plt.figure(figsize=(6, 4))\n",
    "plt.scatter(sX[:, 0], sX[:, 1], c=y_pred, edgecolors='k')\n",
    "plt.title(\"Clustering by DBSCAN\", fontsize=20)\n",
    "plt.show()"
   ]
  },
  {
   "cell_type": "markdown",
   "metadata": {},
   "source": [
    "3h) Finally, we will compare the performance of the complete linkage clusters with the DBSCAN clusters using “silhouette_score” and “calinski_harabaz_score”. Which clustering method does the “silhouette_score” favour? How about the “calinski_harabaz_score”?"
   ]
  },
  {
   "cell_type": "markdown",
   "metadata": {},
   "source": [
    "Q4"
   ]
  },
  {
   "cell_type": "markdown",
   "metadata": {},
   "source": [
    "4a) Repeat parts a and b of Q3, this time we use stockdata6.csv. Again, we are only using hscei_close and nky_close as the x-variables. Show that the up days and down days are completely intermingled, making it very hard to classify them."
   ]
  },
  {
   "cell_type": "code",
   "execution_count": 48,
   "metadata": {},
   "outputs": [],
   "source": [
    "from sklearn.preprocessing import MinMaxScaler\n",
    "scaler_x = MinMaxScaler((-1, 1)) \n",
    "sX = scaler_x.fit_transform(x)"
   ]
  },
  {
   "cell_type": "code",
   "execution_count": 49,
   "metadata": {},
   "outputs": [
    {
     "data": {
      "text/plain": [
       "<matplotlib.collections.PathCollection at 0x1f5831395c0>"
      ]
     },
     "execution_count": 49,
     "metadata": {},
     "output_type": "execute_result"
    },
    {
     "data": {
      "image/png": "[encoded data removed]",
      "text/plain": [
       "<Figure size 432x288 with 1 Axes>"
      ]
     },
     "metadata": {
      "needs_background": "light"
     },
     "output_type": "display_data"
    }
   ],
   "source": [
    "plt.scatter(sX[:, 0], sX[:, 1], c=y)"
   ]
  },
  {
   "cell_type": "markdown",
   "metadata": {},
   "source": [
    "4b) Use the plot_svc function that you learned in tutorial 7 to find and draw the SVC’s for the following parameters: C=1, kernel='linear'."
   ]
  },
  {
   "cell_type": "code",
   "execution_count": 50,
   "metadata": {},
   "outputs": [],
   "source": [
    "# We'll define a function to draw a nice plot of an SVM\n",
    "def plot_svc(svc, X, y, h=0.02, pad=0.25):\n",
    "    x_min, x_max = X[:, 0].min()-pad, X[:, 0].max()+pad\n",
    "    y_min, y_max = X[:, 1].min()-pad, X[:, 1].max()+pad\n",
    "    xx, yy = np.meshgrid(np.arange(x_min, x_max, h), np.arange(y_min, y_max, h))\n",
    "    Z = svc.predict(np.c_[xx.ravel(), yy.ravel()])\n",
    "    Z = Z.reshape(xx.shape)\n",
    "    plt.contourf(xx, yy, Z, cmap=plt.cm.Paired, alpha=0.2)\n",
    "\n",
    "    plt.scatter(X[:,0], X[:,1], s=70, c=y, cmap=mpl.cm.Paired)\n",
    "    # Support vectors indicated in plot by vertical lines\n",
    "    sv = svc.support_vectors_\n",
    "    plt.scatter(sv[:,0], sv[:,1], c='k', marker='x', s=100, linewidths='1')\n",
    "    plt.xlim(x_min, x_max)\n",
    "    plt.ylim(y_min, y_max)\n",
    "    plt.xlabel('X1')\n",
    "    plt.ylabel('X2')\n",
    "    plt.show()\n",
    "    print('Number of support vectors: ', svc.support_.size)"
   ]
  },
  {
   "cell_type": "code",
   "execution_count": 51,
   "metadata": {},
   "outputs": [
    {
     "ename": "ValueError",
     "evalue": "X.shape[1] = 2 should be equal to 9, the number of features at training time",
     "output_type": "error",
     "traceback": [
      "\u001b[1;31m---------------------------------------------------------------------------\u001b[0m",
      "\u001b[1;31mValueError\u001b[0m                                Traceback (most recent call last)",
      "\u001b[1;32m<ipython-input-51-42d64f253e93>\u001b[0m in \u001b[0;36m<module>\u001b[1;34m()\u001b[0m\n\u001b[0;32m      1\u001b[0m \u001b[0msvc1\u001b[0m \u001b[1;33m=\u001b[0m \u001b[0mSVC\u001b[0m\u001b[1;33m(\u001b[0m\u001b[0mC\u001b[0m\u001b[1;33m=\u001b[0m\u001b[1;36m1\u001b[0m\u001b[1;33m,\u001b[0m \u001b[0mkernel\u001b[0m\u001b[1;33m=\u001b[0m\u001b[1;34m'linear'\u001b[0m\u001b[1;33m)\u001b[0m\u001b[1;33m\u001b[0m\u001b[0m\n\u001b[0;32m      2\u001b[0m \u001b[0msvc1\u001b[0m\u001b[1;33m.\u001b[0m\u001b[0mfit\u001b[0m\u001b[1;33m(\u001b[0m\u001b[0msX\u001b[0m\u001b[1;33m,\u001b[0m \u001b[0my\u001b[0m\u001b[1;33m)\u001b[0m\u001b[1;33m\u001b[0m\u001b[0m\n\u001b[1;32m----> 3\u001b[1;33m \u001b[0mplot_svc\u001b[0m\u001b[1;33m(\u001b[0m\u001b[0msvc1\u001b[0m\u001b[1;33m,\u001b[0m \u001b[0msX\u001b[0m\u001b[1;33m,\u001b[0m \u001b[0my\u001b[0m\u001b[1;33m)\u001b[0m\u001b[1;33m\u001b[0m\u001b[0m\n\u001b[0m",
      "\u001b[1;32m<ipython-input-50-54c436ebea2a>\u001b[0m in \u001b[0;36mplot_svc\u001b[1;34m(svc, X, y, h, pad)\u001b[0m\n\u001b[0;32m      4\u001b[0m     \u001b[0my_min\u001b[0m\u001b[1;33m,\u001b[0m \u001b[0my_max\u001b[0m \u001b[1;33m=\u001b[0m \u001b[0mX\u001b[0m\u001b[1;33m[\u001b[0m\u001b[1;33m:\u001b[0m\u001b[1;33m,\u001b[0m \u001b[1;36m1\u001b[0m\u001b[1;33m]\u001b[0m\u001b[1;33m.\u001b[0m\u001b[0mmin\u001b[0m\u001b[1;33m(\u001b[0m\u001b[1;33m)\u001b[0m\u001b[1;33m-\u001b[0m\u001b[0mpad\u001b[0m\u001b[1;33m,\u001b[0m \u001b[0mX\u001b[0m\u001b[1;33m[\u001b[0m\u001b[1;33m:\u001b[0m\u001b[1;33m,\u001b[0m \u001b[1;36m1\u001b[0m\u001b[1;33m]\u001b[0m\u001b[1;33m.\u001b[0m\u001b[0mmax\u001b[0m\u001b[1;33m(\u001b[0m\u001b[1;33m)\u001b[0m\u001b[1;33m+\u001b[0m\u001b[0mpad\u001b[0m\u001b[1;33m\u001b[0m\u001b[0m\n\u001b[0;32m      5\u001b[0m     \u001b[0mxx\u001b[0m\u001b[1;33m,\u001b[0m \u001b[0myy\u001b[0m \u001b[1;33m=\u001b[0m \u001b[0mnp\u001b[0m\u001b[1;33m.\u001b[0m\u001b[0mmeshgrid\u001b[0m\u001b[1;33m(\u001b[0m\u001b[0mnp\u001b[0m\u001b[1;33m.\u001b[0m\u001b[0marange\u001b[0m\u001b[1;33m(\u001b[0m\u001b[0mx_min\u001b[0m\u001b[1;33m,\u001b[0m \u001b[0mx_max\u001b[0m\u001b[1;33m,\u001b[0m \u001b[0mh\u001b[0m\u001b[1;33m)\u001b[0m\u001b[1;33m,\u001b[0m \u001b[0mnp\u001b[0m\u001b[1;33m.\u001b[0m\u001b[0marange\u001b[0m\u001b[1;33m(\u001b[0m\u001b[0my_min\u001b[0m\u001b[1;33m,\u001b[0m \u001b[0my_max\u001b[0m\u001b[1;33m,\u001b[0m \u001b[0mh\u001b[0m\u001b[1;33m)\u001b[0m\u001b[1;33m)\u001b[0m\u001b[1;33m\u001b[0m\u001b[0m\n\u001b[1;32m----> 6\u001b[1;33m     \u001b[0mZ\u001b[0m \u001b[1;33m=\u001b[0m \u001b[0msvc\u001b[0m\u001b[1;33m.\u001b[0m\u001b[0mpredict\u001b[0m\u001b[1;33m(\u001b[0m\u001b[0mnp\u001b[0m\u001b[1;33m.\u001b[0m\u001b[0mc_\u001b[0m\u001b[1;33m[\u001b[0m\u001b[0mxx\u001b[0m\u001b[1;33m.\u001b[0m\u001b[0mravel\u001b[0m\u001b[1;33m(\u001b[0m\u001b[1;33m)\u001b[0m\u001b[1;33m,\u001b[0m \u001b[0myy\u001b[0m\u001b[1;33m.\u001b[0m\u001b[0mravel\u001b[0m\u001b[1;33m(\u001b[0m\u001b[1;33m)\u001b[0m\u001b[1;33m]\u001b[0m\u001b[1;33m)\u001b[0m\u001b[1;33m\u001b[0m\u001b[0m\n\u001b[0m\u001b[0;32m      7\u001b[0m     \u001b[0mZ\u001b[0m \u001b[1;33m=\u001b[0m \u001b[0mZ\u001b[0m\u001b[1;33m.\u001b[0m\u001b[0mreshape\u001b[0m\u001b[1;33m(\u001b[0m\u001b[0mxx\u001b[0m\u001b[1;33m.\u001b[0m\u001b[0mshape\u001b[0m\u001b[1;33m)\u001b[0m\u001b[1;33m\u001b[0m\u001b[0m\n\u001b[0;32m      8\u001b[0m     \u001b[0mplt\u001b[0m\u001b[1;33m.\u001b[0m\u001b[0mcontourf\u001b[0m\u001b[1;33m(\u001b[0m\u001b[0mxx\u001b[0m\u001b[1;33m,\u001b[0m \u001b[0myy\u001b[0m\u001b[1;33m,\u001b[0m \u001b[0mZ\u001b[0m\u001b[1;33m,\u001b[0m \u001b[0mcmap\u001b[0m\u001b[1;33m=\u001b[0m\u001b[0mplt\u001b[0m\u001b[1;33m.\u001b[0m\u001b[0mcm\u001b[0m\u001b[1;33m.\u001b[0m\u001b[0mPaired\u001b[0m\u001b[1;33m,\u001b[0m \u001b[0malpha\u001b[0m\u001b[1;33m=\u001b[0m\u001b[1;36m0.2\u001b[0m\u001b[1;33m)\u001b[0m\u001b[1;33m\u001b[0m\u001b[0m\n",
      "\u001b[1;32m~\\Anaconda3\\envs\\tfenv\\lib\\site-packages\\sklearn\\svm\\base.py\u001b[0m in \u001b[0;36mpredict\u001b[1;34m(self, X)\u001b[0m\n\u001b[0;32m    572\u001b[0m             \u001b[0mClass\u001b[0m \u001b[0mlabels\u001b[0m \u001b[1;32mfor\u001b[0m \u001b[0msamples\u001b[0m \u001b[1;32min\u001b[0m \u001b[0mX\u001b[0m\u001b[1;33m.\u001b[0m\u001b[1;33m\u001b[0m\u001b[0m\n\u001b[0;32m    573\u001b[0m         \"\"\"\n\u001b[1;32m--> 574\u001b[1;33m         \u001b[0my\u001b[0m \u001b[1;33m=\u001b[0m \u001b[0msuper\u001b[0m\u001b[1;33m(\u001b[0m\u001b[1;33m)\u001b[0m\u001b[1;33m.\u001b[0m\u001b[0mpredict\u001b[0m\u001b[1;33m(\u001b[0m\u001b[0mX\u001b[0m\u001b[1;33m)\u001b[0m\u001b[1;33m\u001b[0m\u001b[0m\n\u001b[0m\u001b[0;32m    575\u001b[0m         \u001b[1;32mreturn\u001b[0m \u001b[0mself\u001b[0m\u001b[1;33m.\u001b[0m\u001b[0mclasses_\u001b[0m\u001b[1;33m.\u001b[0m\u001b[0mtake\u001b[0m\u001b[1;33m(\u001b[0m\u001b[0mnp\u001b[0m\u001b[1;33m.\u001b[0m\u001b[0masarray\u001b[0m\u001b[1;33m(\u001b[0m\u001b[0my\u001b[0m\u001b[1;33m,\u001b[0m \u001b[0mdtype\u001b[0m\u001b[1;33m=\u001b[0m\u001b[0mnp\u001b[0m\u001b[1;33m.\u001b[0m\u001b[0mintp\u001b[0m\u001b[1;33m)\u001b[0m\u001b[1;33m)\u001b[0m\u001b[1;33m\u001b[0m\u001b[0m\n\u001b[0;32m    576\u001b[0m \u001b[1;33m\u001b[0m\u001b[0m\n",
      "\u001b[1;32m~\\Anaconda3\\envs\\tfenv\\lib\\site-packages\\sklearn\\svm\\base.py\u001b[0m in \u001b[0;36mpredict\u001b[1;34m(self, X)\u001b[0m\n\u001b[0;32m    320\u001b[0m         \u001b[0my_pred\u001b[0m \u001b[1;33m:\u001b[0m \u001b[0marray\u001b[0m\u001b[1;33m,\u001b[0m \u001b[0mshape\u001b[0m \u001b[1;33m(\u001b[0m\u001b[0mn_samples\u001b[0m\u001b[1;33m,\u001b[0m\u001b[1;33m)\u001b[0m\u001b[1;33m\u001b[0m\u001b[0m\n\u001b[0;32m    321\u001b[0m         \"\"\"\n\u001b[1;32m--> 322\u001b[1;33m         \u001b[0mX\u001b[0m \u001b[1;33m=\u001b[0m \u001b[0mself\u001b[0m\u001b[1;33m.\u001b[0m\u001b[0m_validate_for_predict\u001b[0m\u001b[1;33m(\u001b[0m\u001b[0mX\u001b[0m\u001b[1;33m)\u001b[0m\u001b[1;33m\u001b[0m\u001b[0m\n\u001b[0m\u001b[0;32m    323\u001b[0m         \u001b[0mpredict\u001b[0m \u001b[1;33m=\u001b[0m \u001b[0mself\u001b[0m\u001b[1;33m.\u001b[0m\u001b[0m_sparse_predict\u001b[0m \u001b[1;32mif\u001b[0m \u001b[0mself\u001b[0m\u001b[1;33m.\u001b[0m\u001b[0m_sparse\u001b[0m \u001b[1;32melse\u001b[0m \u001b[0mself\u001b[0m\u001b[1;33m.\u001b[0m\u001b[0m_dense_predict\u001b[0m\u001b[1;33m\u001b[0m\u001b[0m\n\u001b[0;32m    324\u001b[0m         \u001b[1;32mreturn\u001b[0m \u001b[0mpredict\u001b[0m\u001b[1;33m(\u001b[0m\u001b[0mX\u001b[0m\u001b[1;33m)\u001b[0m\u001b[1;33m\u001b[0m\u001b[0m\n",
      "\u001b[1;32m~\\Anaconda3\\envs\\tfenv\\lib\\site-packages\\sklearn\\svm\\base.py\u001b[0m in \u001b[0;36m_validate_for_predict\u001b[1;34m(self, X)\u001b[0m\n\u001b[0;32m    472\u001b[0m             raise ValueError(\"X.shape[1] = %d should be equal to %d, \"\n\u001b[0;32m    473\u001b[0m                              \u001b[1;34m\"the number of features at training time\"\u001b[0m \u001b[1;33m%\u001b[0m\u001b[1;33m\u001b[0m\u001b[0m\n\u001b[1;32m--> 474\u001b[1;33m                              (n_features, self.shape_fit_[1]))\n\u001b[0m\u001b[0;32m    475\u001b[0m         \u001b[1;32mreturn\u001b[0m \u001b[0mX\u001b[0m\u001b[1;33m\u001b[0m\u001b[0m\n\u001b[0;32m    476\u001b[0m \u001b[1;33m\u001b[0m\u001b[0m\n",
      "\u001b[1;31mValueError\u001b[0m: X.shape[1] = 2 should be equal to 9, the number of features at training time"
     ]
    }
   ],
   "source": [
    "svc1 = SVC(C=1, kernel='linear')\n",
    "svc1.fit(sX, y)\n",
    "plot_svc(svc1, sX, y)"
   ]
  },
  {
   "cell_type": "code",
   "execution_count": 36,
   "metadata": {},
   "outputs": [
    {
     "data": {
      "text/plain": [
       "array([ 0,  3,  6,  7,  8,  9, 10, 12, 14, 15, 17, 19, 23, 24, 25, 30, 31,\n",
       "       32, 34, 35, 38, 39, 42, 43, 44, 50, 51, 52, 54, 56, 63, 65, 66, 67,\n",
       "       69, 71, 72, 75, 76, 78, 79, 80,  1,  2,  4,  5, 11, 18, 20, 21, 22,\n",
       "       27, 28, 29, 33, 36, 37, 40, 41, 45, 46, 47, 48, 49, 53, 55, 57, 58,\n",
       "       60, 61, 62, 64, 68, 70, 73, 74, 77, 81, 85, 91, 93, 94, 97],\n",
       "      dtype=int32)"
      ]
     },
     "execution_count": 36,
     "metadata": {},
     "output_type": "execute_result"
    }
   ],
   "source": [
    "svc1.support_"
   ]
  },
  {
   "cell_type": "markdown",
   "metadata": {},
   "source": [
    "4c) Now, repeat part b with the following parameters: C=100, kernel='linear'."
   ]
  },
  {
   "cell_type": "code",
   "execution_count": 37,
   "metadata": {},
   "outputs": [
    {
     "data": {
      "image/png": "[encoded data removed]",
      "text/plain": [
       "<Figure size 432x288 with 1 Axes>"
      ]
     },
     "metadata": {
      "needs_background": "light"
     },
     "output_type": "display_data"
    },
    {
     "name": "stdout",
     "output_type": "stream",
     "text": [
      "Number of support vectors:  81\n"
     ]
    }
   ],
   "source": [
    "svc2 = SVC(C=100, kernel='linear')\n",
    "svc2.fit(sX, y)\n",
    "plot_svc(svc2, sX, y)"
   ]
  },
  {
   "cell_type": "code",
   "execution_count": 38,
   "metadata": {},
   "outputs": [
    {
     "data": {
      "text/plain": [
       "array([ 0,  3,  6,  7,  8,  9, 10, 12, 14, 15, 17, 19, 23, 24, 25, 30, 31,\n",
       "       32, 34, 35, 38, 39, 42, 43, 44, 50, 51, 52, 54, 63, 65, 66, 67, 69,\n",
       "       71, 72, 75, 76, 78, 79, 80,  1,  4,  5, 11, 18, 20, 21, 22, 27, 28,\n",
       "       29, 33, 36, 37, 40, 41, 45, 46, 47, 48, 49, 53, 55, 57, 58, 60, 61,\n",
       "       62, 64, 68, 70, 73, 74, 77, 81, 85, 91, 93, 94, 97], dtype=int32)"
      ]
     },
     "execution_count": 38,
     "metadata": {},
     "output_type": "execute_result"
    }
   ],
   "source": [
    "svc2.support_"
   ]
  },
  {
   "cell_type": "markdown",
   "metadata": {},
   "source": [
    "4d) Based on parts c and d, show that no matter what cost parameter C you use, the number of estimated linear SVCs are hopelessly large when compared to the sample size (99). This indicates that the regional indexes (HSCEI and NEKKI) are virtually useless in classifying the up days and down days in HSI. However, a large C appears to at least separate the data space into up and down regions, whereas a small C cannot even do this."
   ]
  },
  {
   "cell_type": "code",
   "execution_count": 39,
   "metadata": {},
   "outputs": [
    {
     "name": "stdout",
     "output_type": "stream",
     "text": [
      "C: 1 Number of support vectors: 83\n",
      "C: 10 Number of support vectors: 82\n",
      "C: 100 Number of support vectors: 81\n",
      "C: 1000 Number of support vectors: 81\n",
      "C: 10000 Number of support vectors: 81\n",
      "C: 100000 Number of support vectors: 81\n"
     ]
    }
   ],
   "source": [
    "for i in range(6):\n",
    "    svc = SVC(C=10**i, kernel='linear')\n",
    "    svc.fit(sX, y)\n",
    "    print(\"C:\", 10**i, \"Number of support vectors:\", len(svc.support_))"
   ]
  },
  {
   "cell_type": "markdown",
   "metadata": {},
   "source": [
    "Q5 (Quite challenging) To the best of your ability, use MATPLOTLIB to reproduce the following picture:"
   ]
  },
  {
   "cell_type": "code",
   "execution_count": 40,
   "metadata": {},
   "outputs": [
    {
     "data": {
      "image/png": "[encoded data removed]",
      "text/plain": [
       "<Figure size 800x480 with 1 Axes>"
      ]
     },
     "metadata": {
      "needs_background": "light"
     },
     "output_type": "display_data"
    }
   ],
   "source": [
    "# Create a figure of size 10x6 inches, 80 dots per inch\n",
    "plt.figure(figsize=(10, 6), dpi=80)\n",
    "\n",
    "# Create a new subplot from a grid of 1x1\n",
    "plt.subplot(1, 1, 1)\n",
    "\n",
    "X = np.linspace(-np.pi, np.pi, 256, endpoint=True)\n",
    "C, S = np.cos(X), np.sin(X)\n",
    "\n",
    "plt.plot(X, C, color=\"blue\", linewidth=0.5, linestyle=\"-\", label=\"cosine\")\n",
    "plt.plot(X, S, color=\"red\",  linewidth=0.5, linestyle=\"-\", label=\"sine\")\n",
    "plt.legend(loc='upper left')\n",
    "\n",
    "plt.xlim(-4.0, 4.0)\n",
    "\n",
    "plt.ylim(-1.1, 1.1)\n",
    "\n",
    "plt.xticks([-np.pi, -np.pi/2, 0, np.pi/2, np.pi],\n",
    "          [r'$-\\pi$', r'$-\\pi/2$', r'$0$', r'$+\\pi/2$', r'$+\\pi$'])\n",
    "\n",
    "plt.yticks([-1, 0, +1],\n",
    "          [r'$-1$', r'$0$', r'$+1$'])\n",
    "\n",
    "ax = plt.gca()  # gca stands for 'get current axis'\n",
    "ax.spines['right'].set_color('none') # none means I don't want to show it\n",
    "ax.spines['top'].set_color('none')\n",
    "ax.xaxis.set_ticks_position('bottom')\n",
    "ax.spines['bottom'].set_position(('data', 0))\n",
    "ax.yaxis.set_ticks_position('left')\n",
    "ax.spines['left'].set_position(('data', 0))\n",
    "\n",
    "# make the tick labels more visible\n",
    "for label in ax.get_xticklabels() + ax.get_yticklabels():\n",
    "    label.set_fontsize(16)\n",
    "    label.set_bbox(dict(facecolor='white', edgecolor='none', alpha=0.65))\n",
    "\n",
    "# to annotate some points (annotate means text description in labels)\n",
    "t = 2 * np.pi / 3\n",
    "plt.plot([t, t], [0, np.cos(t)], color='blue', linewidth=2.5, linestyle=\"--\") # plot annotated pt line\n",
    "plt.scatter([t, ], [np.cos(t), ], 50, color='blue') # plot annotated pt\n",
    "\n",
    "plt.annotate(r'$sin(\\frac{2\\pi}{3})=\\frac{\\sqrt{3}}{2}$',\n",
    "             xy=(t, np.sin(t)), xycoords='data',\n",
    "             xytext=(+10, +30), textcoords='offset points', fontsize=16,\n",
    "             arrowprops=dict(arrowstyle=\"->\", connectionstyle=\"arc3,rad=.2\"))\n",
    "\n",
    "plt.plot([t, t],[0, np.sin(t)], color='red', linewidth=2.5, linestyle=\"--\")\n",
    "plt.scatter([t, ],[np.sin(t), ], 50, color='red') # connect annotated pts (sine and cosine)\n",
    "\n",
    "plt.annotate(r'$cos(\\frac{2\\pi}{3})=-\\frac{1}{2}$',\n",
    "             xy=(t, np.cos(t)), xycoords='data',\n",
    "             xytext=(-90, -50), textcoords='offset points', fontsize=16,\n",
    "             arrowprops=dict(arrowstyle=\"->\", connectionstyle=\"arc3,rad=.2\"))\n",
    "\n",
    "plt.savefig(\"ploteg.png\", dpi=72)\n",
    "\n",
    "plt.show()"
   ]
  }
 ],
 "metadata": {
  "kernelspec": {
   "display_name": "Python 3",
   "language": "python",
   "name": "python3"
  },
  "language_info": {
   "codemirror_mode": {
    "name": "ipython",
    "version": 3
   },
   "file_extension": ".py",
   "mimetype": "text/x-python",
   "name": "python",
   "nbconvert_exporter": "python",
   "pygments_lexer": "ipython3",
   "version": "3.5.6"
  }
 },
 "nbformat": 4,
 "nbformat_minor": 2
}
